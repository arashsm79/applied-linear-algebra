{
 "cells": [
  {
   "cell_type": "markdown",
   "metadata": {},
   "source": [
    "# Applied Linear Algebra - Lab 3\n",
    "    Ferdowsi University of Mashhad - Department of Computer Engineering\n",
    "\n",
    "### **Jan 2025**\n",
    "> #### ***If you've any question, feel free to ask:*** $$@Maresha82$$\n",
    "\n",
    "### Table of Contents\n",
    "\n",
    "* [Initiation](#Initiation)\n",
    "* [Determinant](#determinant)\n",
    "    * [Exercise1](#exercise-1)\n",
    "        * [Test](#test-your-function) $\\checkmark$\n",
    "    \n",
    "* [Cramer's rule](#cramers-rule)\n",
    "    * [Exercise2](#exercise-2)\n",
    "        * [Test](#show-time)$\\checkmark$\n",
    "        * [Exercise 2.1](#exercise-21)\n",
    "    * [Inverse of matrix](#Theory-of-Finding-the-Inverse-of-a-Matrix-Using-Cramer's-Rule)\n",
    "        * [Exercise 2.2](#exercise-22)\n",
    "            *[Test](#Test-your-code)\n",
    "* [Eigen value and eigen vector](#eigen-value-and-eigen-vector)\n",
    "    * [Explantory Exercise](#Explantory-Exercise)\n",
    "    * [Welcome to Calculation !](#Welcome-to-Calculation-!)\n",
    "        * [Exercise 3](#exercise-3)\n",
    "    * [Von Mises](#von-mises-iteration-algorithm)\n",
    "        * [Exercise 3.1](#exercise-31)\n",
    "        * [Exercise 3.2](#exercise-32)\n",
    "        * [Exercise 3.3](#exercise-33)\n",
    "        * [Exercise 3.4](#exercise-34)\n",
    "        * [Exercise 3.5](#exercise-35)\n",
    "        * [Test](#show-time)$\\checkmark$\n",
    "* [Diagonalization](#Diagonalization)\n",
    "    * [Exercise 4](#exercise-4)\n",
    "        * [Exercise 4.1](#exercise-41)\n",
    "* [Spectral Clustering](#spectral-clustering)\n",
    "    * [Basic Idea](#basic-idea)\n",
    "        * [Steps of spectral clustering](#steps-of-spectral-clustering)\n",
    "        * [Advantages](#advantages)\n",
    "        * [Limitations](#limitations)\n",
    "        * [Applications](#applications)\n",
    "        * [Summary](#summary)\n",
    "        * [Exercise 6](#exercise-6)\n",
    "            * [Exercise 6.1 ](#exercise-61)\n",
    "    * [Affinity Matrix](#understanding-affinity-matrix-in-machine-learning)\n",
    "        * [What is affinity matrix?](#what-is-an-affinity-matrix)\n",
    "        * [Construction](#how-is-an-affinity-matrix-constructed)\n",
    "            * [Exercise 6.2](#exericse-62)\n",
    "    * [Graph Laplacian](#graph-laplacian)\n",
    "        * [Exercise 6.3](#exercise-63)\n",
    "    * [Exercise 6.4](#exercise-64)\n",
    "        * [Exercise 6.4.1](#exercise-641)\n",
    "    * [Sounds of Eigen](#the-sounds-of-eigen)\n",
    "        * [Exercise 6.5 ](#exercise-65)\n",
    "    * [Exercise 6.6](#final-exercise)\n",
    "* [Extra Points](#data-selection-through-spectral-analysisextra-point)\n",
    "    \n",
    "    \n",
    "\n",
    "\n"
   ]
  },
  {
   "cell_type": "markdown",
   "metadata": {},
   "source": [
    "## Initiation\n",
    "Welcome to the Linear Algebra project! \n",
    "In this section, we're going to discover some breathtaking applications of linear algebra. If you trust me , that can be totally fantastic if you know we're able to use eigen vectors and eigen values theory in order to create a machine learning models.    \n",
    "But before dieve into that kind of intutions and terminologies, fancy joining me for a significant journey that is waiting upon us!\n",
    "\n",
    "\n"
   ]
  },
  {
   "cell_type": "code",
   "execution_count": 105,
   "metadata": {},
   "outputs": [],
   "source": [
    "import numpy as np\n",
    "import pandas as pd\n",
    "import matplotlib.pyplot as plt\n",
    "from datetime import datetime\n",
    "import numpy as np\n",
    "from sklearn.cluster import SpectralClustering,KMeans\n",
    "from sklearn.datasets import make_blobs\n",
    "import matplotlib.pyplot as plt"
   ]
  },
  {
   "cell_type": "markdown",
   "metadata": {},
   "source": [
    "## Determinant\n",
    "Since calculating the determinant of a square matrix is a fundamental operation in linear algebra, We must consider to gain those reliable data.  \n",
    "As you may know, you can calculate the determinant of a 2*2 matrix like this:\n",
    "$$\n",
    "\\\n",
    "\\begin{vmatrix}\n",
    "a & b \\\\\n",
    "c & d \\\\\n",
    "\\end{vmatrix}\n",
    "= ad - bc\n",
    "$$\n",
    "\n",
    "And such a similar manner for 3*3:   \n",
    "$$\n",
    "\\ \\begin{vmatrix}\n",
    "a & b & c \\\\\n",
    "d & e & f \\\\\n",
    "g & h & i \\\\\n",
    "\\end{vmatrix}\n",
    "= a(ei - fh) - b(di - fg) + c(dh - eg)\n",
    "$$\n",
    "Now let's calculate the determinant of an arbitrary matrix using numpy."
   ]
  },
  {
   "cell_type": "markdown",
   "metadata": {},
   "source": [
    "### Exercise 1\n",
    "Implement a function to calculate the determinant of a mtrix.   \n",
    "Remember you're not allowed to use built-in functions of any provided libraries such as numpy and etc.(It would be guaranteed that your matrix is an $n*n$ matrix.)\n",
    "\n",
    "<details>\n",
    "    <summary>Hint No.1</summary>\n",
    "    <p>\n",
    "    Highly recommended to implement it using gaussian elimination tactics\n",
    "    <ul>\n",
    "    <li>Use Gaussian elimination to convert the matrix to upper triangular form </li>\n",
    "    <li>Swap rows to get a non-zero diagonal element</li>\n",
    "    <li>If no non-zero element is found, determinant is zero</li>\n",
    "    <li>Eliminate the elements below the diagonal</li>\n",
    "    <li>If no non-zero element is found, determinant is zero</li>\n",
    "</ul>\n",
    "    </p>\n",
    "</details>"
   ]
  },
  {
   "cell_type": "code",
   "execution_count": null,
   "metadata": {},
   "outputs": [],
   "source": [
    "## Determinant\n",
    "def determinant(matrix):\n",
    "    n = matrix.shape[0]\n",
    "\n",
    "    # Make a copy of the matrix to avoid modifying the original\n",
    "    mat_copy = matrix.astype(float)\n",
    "\n",
    "    for i in range(n):\n",
    "        #TODO\n",
    "        pass\n",
    "\n",
    "    # Multiply the diagonal elements to get the determinant\n",
    "    det = np.prod(np.diagonal(mat_copy))\n",
    "\n",
    "    return det\n",
    "\n"
   ]
  },
  {
   "cell_type": "markdown",
   "metadata": {},
   "source": [
    "#### Test your function\n",
    "As you may know we've some built-in function that can be used in order to calculate the determinant of a matrix."
   ]
  },
  {
   "cell_type": "code",
   "execution_count": null,
   "metadata": {},
   "outputs": [],
   "source": [
    "test_matrix = np.array([[4, -2, 1],\n",
    "                         [-2, 5, 3],\n",
    "                         [1, 3, 6]])"
   ]
  },
  {
   "cell_type": "code",
   "execution_count": null,
   "metadata": {},
   "outputs": [],
   "source": [
    "#Numpy\n",
    "np_result=np.linalg.det(test_matrix)\n",
    "\n",
    "#Your Function\n",
    "det_result = determinant(test_matrix)\n",
    "\n",
    "det_result,np_result"
   ]
  },
  {
   "cell_type": "markdown",
   "metadata": {},
   "source": [
    "## Cramer's rule   \n",
    "Cramer's Rule is a mathematical technique used to solve a system of linear equations with as many equations as unknowns, provided that the system's coefficient matrix is non-singular (i.e., its determinant is non-zero). It provides a method to find the unique solution for each variable in terms of determinants. \n",
    "Cramer's rule is a method used to solve systems of linear equations. It is particularly useful when dealing with square matrices.\n",
    "\n",
    "You may know how to use cramer's rule but you can use the matrix that has provided below.\n",
    "$$\n",
    "\\\n",
    "x_1 = \\frac{\\begin{vmatrix} b_1 & a_{12} & a_{13} \\\\ b_2 & a_{22} & a_{23} \\\\ b_3 & a_{32} & a_{33} \\end{vmatrix}}{\\begin{vmatrix} a_{11} & a_{12} & a_{13} \\\\ a_{21} & a_{22} & a_{23} \\\\ a_{31} & a_{32} & a_{33} \\end{vmatrix}}\n",
    "\\;\n",
    "x_2 = \\frac{\\begin{vmatrix} a_{11} & b_1 & a_{13} \\\\ a_{21} & b_2 & a_{23} \\\\ a_{31} & b_3 & a_{33} \\end{vmatrix}}{\\begin{vmatrix} a_{11} & a_{12} & a_{13} \\\\ a_{21} & a_{22} & a_{23} \\\\ a_{31} & a_{32} & a_{33} \\end{vmatrix}}\\\\\n",
    "x_3 = \\frac{\\begin{vmatrix} a_{11} & a_{12} & b_1 \\\\ a_{21} & a_{22} & b_2 \\\\ a_{31} & a_{32} & b_3 \\end{vmatrix}}{\\begin{vmatrix} a_{11} & a_{12} & a_{13} \\\\ a_{21} & a_{22} & a_{23} \\\\ a_{31} & a_{32} & a_{33} \\end{vmatrix}}\n",
    "$$   \n",
    "\n",
    "It's important to note that Cramer's rule is not always the most efficient method for solving systems of linear equations, especially for large matrices, as it involves the calculation of determinants, which can be computationally intensive. In such cases, other methods, such as Gaussian elimination or LU decomposition, may be more suitable.\n",
    "\n"
   ]
  },
  {
   "cell_type": "markdown",
   "metadata": {},
   "source": [
    "### Exercise 2\n",
    "In this exercise we want to calculate the answer of a linear system using cramer's rule.\n",
    "Feel free to use any built-in function in order to calculate the determinant"
   ]
  },
  {
   "cell_type": "code",
   "execution_count": null,
   "metadata": {},
   "outputs": [],
   "source": [
    "def cramer_rule(matrix_A, vector_b):\n",
    "    # Calculate the determinant of the coefficient matrix\n",
    "    # You can also put your function of determinant here.\n",
    "    # det_A = np.linalg.det(matrix_A)\n",
    "    if det_A == 0:\n",
    "        raise ValueError(\"The determinant of the coefficient matrix is zero. Cramer's Rule cannot be applied.\")\n",
    "\n",
    "    n = matrix_A.shape[0]\n",
    "    solutions = []\n",
    "\n",
    "    for i in range(n):\n",
    "        # Create a copy of the coefficient matrix and replace the i-th column with the vector b\n",
    "        matrix_A_i = matrix_A.copy()\n",
    "        # matrix_A_i[:, i] = ?\n",
    "        #TODO\n",
    "          # vector_b\n",
    "        # Calculate the determinant of the modified matrix\n",
    "        det_A_i = np.linalg.det(matrix_A_i)\n",
    "\n",
    "        # Cramer's Rule: x_i = det(A_i) / det(A)\n",
    "        # solution_i = det_A_i / det_A\n",
    "        solutions.append(?)\n",
    "\n",
    "    return solutions"
   ]
  },
  {
   "cell_type": "markdown",
   "metadata": {},
   "source": [
    "#### Show time!   \n",
    "You can test your code here:"
   ]
  },
  {
   "cell_type": "code",
   "execution_count": null,
   "metadata": {},
   "outputs": [],
   "source": [
    "A_matrix = np.array([[2, -1, 3],\n",
    "                     [1, 2, 1],\n",
    "                      [3, 4, 5]], dtype=float)\n",
    "\n",
    "b_vector = np.array([8, 5, 1], dtype=float)"
   ]
  },
  {
   "cell_type": "code",
   "execution_count": null,
   "metadata": {},
   "outputs": [],
   "source": [
    "#Numpy\n",
    "np_result=np.linalg.solve(A_matrix,b_vector)\n",
    "#Your function\n",
    "you= cramer_rule(A_matrix,b_vector)"
   ]
  },
  {
   "cell_type": "markdown",
   "metadata": {},
   "source": [
    "### Exercise 2.1 \n",
    "Now, we want to know is there any way to find the Inverse of a matrix using cramer's rule.\n"
   ]
  },
  {
   "cell_type": "code",
   "execution_count": 14,
   "metadata": {},
   "outputs": [],
   "source": [
    "A = np.array([[1, 2, 3],\n",
    "              [3, 5, 11],\n",
    "              [4, 8, 4]])\n",
    "\n"
   ]
  },
  {
   "cell_type": "markdown",
   "metadata": {
    "tags": [
     "Theo"
    ]
   },
   "source": [
    "\n",
    "\n",
    "### Theory of Finding the Inverse of a Matrix Using Cramer's Rule\n",
    "\n",
    "To find the inverse of an $ n \\times n$ matrix $A$ using Cramer's Rule, follow these steps:\n",
    "\n",
    "1. **Determinant of the Matrix**: First, ensure that the determinant of the matrix $ \\text{det}(A) $ is non-zero. The matrix $ A $ must be invertible, which is the case only if $ \\text{det}(A) \\neq 0 $.\n",
    "\n",
    "2. **Adjugate (Adjoint) Matrix**: Construct the adjugate (or adjoint) matrix $ \\text{adj}(A) $. The adjugate matrix is the transpose of the cofactor matrix of $A $.\n",
    "\n",
    "3. **Cofactor Matrix**: The cofactor matrix $ C $ is composed of the cofactors $ C_{ij} $ of each element $ a_{ij} $ in $ A $.\n",
    "   - The cofactor $ C_{ij} $ is given by $ C_{ij} = (-1)^{i+j} \\cdot M_{ij} $, where $ M_{ij} $ is the determinant of the $(n-1) \\times (n-1)$ minor matrix obtained by deleting the $ i $-th row and $ j $-th column from $ A $.\n",
    "\n",
    "4. **Transpose the Cofactor Matrix**: The adjugate matrix $ \\text{adj}(A) $ is the transpose of the cofactor matrix.\n",
    "\n",
    "5. **Inverse Matrix**: The inverse of $ A $ is given by:\n",
    "   $$\n",
    "   A^{-1} = \\frac{1}{\\text{det}(A)} \\cdot \\text{adj}(A)\n",
    "   $$\n",
    "   This formula indicates that the inverse matrix is obtained by dividing each element of the adjugate matrix by the determinant of the original matrix $ A $.\n",
    "\n",
    "### Detailed Steps for Finding the Inverse\n",
    "\n",
    "1. **Compute the Determinant**:\n",
    "   $$\n",
    "   \\text{det}(A) = \\sum_{j=1}^{n} a_{1j} \\cdot C_{1j}\n",
    "   $$\n",
    "   where $ a_{1j} $ are the elements of the first row and $ C_{1j} $ are the corresponding cofactors.\n",
    "\n",
    "2. **Construct the Cofactor Matrix**:\n",
    "   For each element $ a_{ij} $ in $ A $:\n",
    "   - Remove the $ i $-th row and $ j $-th column to form the minor matrix $ M_{ij} $.\n",
    "   - Compute the determinant of the minor matrix, $ M_{ij}$.\n",
    "   - Compute the cofactor $ C_{ij} = (-1)^{i+j} \\cdot \\text{det}(M_{ij}) $.\n",
    "\n",
    "3. **Transpose the Cofactor Matrix**:\n",
    "   Form the adjugate matrix $ \\text{adj}(A) $ by transposing the cofactor matrix.\n",
    "\n",
    "4. **Divide by the Determinant**:\n",
    "   Compute the inverse matrix $ A^{-1} $ by dividing each element of the adjugate matrix by $ \\text{det}(A) $.\n",
    "\n",
    "### Example\n",
    "\n",
    "Given a $ 2 \\times 2 $ matrix:\n",
    "$$ A = \\begin{pmatrix} a & b \\\\ c & d \\end{pmatrix} $$\n",
    "\n",
    "1. **Compute the Determinant**:\n",
    "   $$ \\text{det}(A) = ad - bc $$\n",
    "\n",
    "2. **Cofactor Matrix**:\n",
    "   $$ C = \\begin{pmatrix} d & -b \\\\ -c & a \\end{pmatrix} $$\n",
    "\n",
    "3. **Adjugate Matrix**:\n",
    "   $$ \\text{adj}(A) = C^T = \\begin{pmatrix} d & -c \\\\ -b & a \\end{pmatrix} $$\n",
    "\n",
    "4. **Inverse Matrix**:\n",
    "   $$ A^{-1} = \\frac{1}{\\text{det}(A)} \\cdot \\text{adj}(A) = \\frac{1}{ad - bc} \\begin{pmatrix} d & -c \\\\ -b & a \\end{pmatrix} $$\n",
    "\n",
    "Using Cramer's Rule for finding the inverse is more computationally intensive compared to other methods (like Gaussian elimination), especially for larger matrices, but it provides a clear theoretical foundation based on determinants and cofactors."
   ]
  },
  {
   "cell_type": "markdown",
   "metadata": {},
   "source": [
    "> ***I should mention:***   \n",
    " the line of code which has came below, might be useful in order to complete next exercise. Feel free not to use it if you don't want to.      \n",
    "```np.column_stack((A[:, 0], A[:, 1], np.eye(3)[2]))```"
   ]
  },
  {
   "cell_type": "markdown",
   "metadata": {},
   "source": [
    "#### Exercise 2.2:\n",
    "Use Crammer rule in order to find inverse of a matrix"
   ]
  },
  {
   "cell_type": "code",
   "execution_count": 25,
   "metadata": {},
   "outputs": [],
   "source": [
    "\n",
    "def inverse_cramer(matrix):\n",
    "    if matrix.shape[0] != matrix.shape[1]:\n",
    "        raise ValueError(\"Matrix must be square\")\n",
    "    \n",
    "    det = np.linalg.det(matrix)\n",
    "    if det == 0:\n",
    "        raise ValueError(\"Matrix is singular, it does not have an inverse\")\n",
    "    n = matrix.shape[0]\n",
    "    cofactors = np.zeros((n, n))\n",
    "    \n",
    "    #TODO \n",
    "    # 1- You should calculate the M matrix as same as cofactor matrix.\n",
    "    # 2- You should calculate the determinant of M matrix.\n",
    "    # 3- You should claculate cofactors\n",
    "    # 4- Finally return adjugate / determinant\n",
    "    \n",
    "    inverse_matrix=None\n",
    "    \n",
    "    return inverse_matrix\n"
   ]
  },
  {
   "cell_type": "markdown",
   "metadata": {},
   "source": [
    "#### Test your code"
   ]
  },
  {
   "cell_type": "code",
   "execution_count": 30,
   "metadata": {},
   "outputs": [
    {
     "data": {
      "text/plain": [
       "True"
      ]
     },
     "execution_count": 30,
     "metadata": {},
     "output_type": "execute_result"
    }
   ],
   "source": [
    "matrix = A\n",
    "inverse_matrix = inverse_cramer(matrix)\n",
    "def is_inverse_correct(matrix, inverse_matrix):\n",
    "    identity_check = np.dot(matrix, inverse_matrix)\n",
    "    identity_matrix = np.eye(matrix.shape[0])\n",
    "    return np.allclose(identity_check, identity_matrix)\n",
    "\n",
    "is_inverse_correct(matrix, inverse_matrix)\n",
    "# matrix,inverse_matrix"
   ]
  },
  {
   "cell_type": "markdown",
   "metadata": {},
   "source": [
    "## Eigen value and eigen vector\n",
    "Eigenvalues and eigenvectors are fundamental concepts in linear algebra. Let's delve into an explanation.    \n",
    "\n",
    "At the final exercise of this project you will totally notice how great is that theory! \n",
    "In a simple word, eigen vectors are those who contain some special information about our matrix.\n",
    "\n",
    "You'll be amazed when you realize some breathtaking applications of that.    \n",
    "The concepts of eigenvalues and eigenvectors are fundamental in linear algebra and have a rich history that spans several centuries. These concepts have been developed and refined by many mathematicians over time.\n",
    "\n",
    "### Early History\n",
    "\n",
    "- **18th Century**: The origins of eigenvalues and eigenvectors can be traced back to the 18th century. The term \"eigenvalue\" comes from the German word \"eigen,\" meaning \"own\" or \"characteristic.\" The concept was first introduced by **Leonhard Euler** in the context of quadratic forms and the principal axes of a quadratic surface.\n",
    "\n",
    "- **Joseph-Louis Lagrange**: Lagrange also contributed to the early development of the theory by studying the solutions of linear systems and the stability of motion in mechanics. His work laid the groundwork for the later formalization of eigenvalues and eigenvectors.\n",
    "\n",
    "### 19th Century\n",
    "\n",
    "- **Augustin-Louis Cauchy**: In the 19th century, Cauchy made significant contributions to the theory of matrices and determinants. He developed methods for finding the eigenvalues of a matrix, which he called the \"characteristic roots.\"\n",
    "\n",
    "- **Carl Gustav Jacob Jacobi**: Jacobi further developed the theory by introducing the Jacobi method for finding the eigenvalues and eigenvectors of a symmetric matrix. His work on the diagonalization of matrices was a major advancement.\n",
    "\n",
    "- **James Joseph Sylvester** and **Arthur Cayley**: These mathematicians were instrumental in developing the algebraic theory of matrices. Sylvester introduced the term \"matrix,\" and Cayley developed the Cayley-Hamilton theorem, which relates a matrix to its characteristic polynomial.\n",
    "\n",
    "### 20th Century and Beyond\n",
    "\n",
    "- **David Hilbert**: Hilbert extended the concept of eigenvalues and eigenvectors to infinite-dimensional spaces, which became a cornerstone in the field of functional analysis. His work on integral equations and spectral theory had a profound impact on mathematics and physics.\n",
    "\n",
    "- **Quantum Mechanics**: The development of quantum mechanics in the early 20th century provided a significant impetus for the study of eigenvalues and eigenvectors. In quantum mechanics, the eigenvalues of an operator represent measurable quantities, and the corresponding eigenvectors represent the states of a quantum system. **Werner Heisenberg**, **Erwin Schrödinger**, and **Paul Dirac** were among the key figures who applied these concepts to the new field of quantum mechanics.\n",
    "\n",
    "### Applications\n",
    "\n",
    "- **Differential Equations**: Eigenvalues and eigenvectors play a crucial role in the study of differential equations, particularly in the solutions of linear systems of differential equations and stability analysis.\n",
    "\n",
    "- **Vibration Analysis**: In engineering, eigenvalues and eigenvectors are used to analyze the natural frequencies and modes of vibration of mechanical structures.\n",
    "\n",
    "- **Principal Component Analysis (PCA)**: In statistics and machine learning, PCA is a technique that uses the eigenvectors and eigenvalues of the covariance matrix to reduce the dimensionality of data while preserving as much variance as possible.\n",
    "\n",
    "- **Google's PageRank Algorithm**: The PageRank algorithm, which was originally used by Google to rank web pages, is based on the eigenvector of the web link matrix.\n",
    "\n",
    "- **Singular Value Decomposition (SVD)**: The SVD is a factorization of a matrix into three matrices, the left singular vectors, the singular values, and the right singular vectors.\n",
    "\n",
    "- **Spectral clustering**: Which you are going to see in detail :).\n"
   ]
  },
  {
   "cell_type": "markdown",
   "metadata": {},
   "source": [
    "### Explantory Exercise \n",
    "> Tell us a brief about some other well-known applications of eigenvalues and eigenvectors.\n"
   ]
  },
  {
   "cell_type": "markdown",
   "metadata": {},
   "source": [
    "Your answer here\n",
    "\n",
    "\n",
    "\n",
    "-------"
   ]
  },
  {
   "cell_type": "markdown",
   "metadata": {},
   "source": [
    "\n",
    "\n",
    "\n",
    "### Welcome to Calculation !\n",
    "\n",
    "In linear algebra, consider a square matrix\n",
    "$A$ .An eigenvector $(\n",
    "v)$ and its corresponding eigenvalue $(λ)$ satisfy the following equation:\n",
    "$$Av=\\lambda v$$  \n",
    "- $A \\rightarrow$ Square matrix\n",
    "- $v \\rightarrow$ eigen vector\n",
    "- $\\lambda \\rightarrow$ eigen value\n",
    "\n",
    "**Eigen vector equation:**   \n",
    "$$(A-\\lambda I)v=0$$   \n",
    "$I$ is identity matrix.   \n",
    "**Eigen value equation:**   \n",
    "$$det(A-\\lambda I)=0$$   \n",
    "This equation yields the eigenvalues $\\lambda_1,\\lambda_2,...,\\lambda_n$ for $n* n$ matrix.  \n",
    "e.g.\n",
    "$$A=\n",
    "\\begin{bmatrix} 4 & -1 \\\\ 2 & 1 \\end{bmatrix}\\\\\n",
    "$$\n",
    "\n",
    "$$\\text{det}\\left(\\begin{bmatrix} 4-\\lambda & -1 \\\\ 2 & 1-\\lambda \\end{bmatrix}\\right) = 0\n",
    "$$"
   ]
  },
  {
   "cell_type": "markdown",
   "metadata": {},
   "source": [
    "#### Exercise 3:\n",
    "In this section we want to calculate the eigen vectors and eigen values of the matrix A.\n",
    "But at this time, we just need to calcualte those values using numpy built-in functions."
   ]
  },
  {
   "cell_type": "code",
   "execution_count": 35,
   "metadata": {},
   "outputs": [
    {
     "data": {
      "text/plain": [
       "Ellipsis"
      ]
     },
     "execution_count": 35,
     "metadata": {},
     "output_type": "execute_result"
    }
   ],
   "source": [
    "matrix= A\n",
    "\n",
    "\n",
    "#TODO \n",
    "# 1- Calculate Eigen vectors\n",
    "# 2- Calcualte eigen values\n",
    "# 3- Print them in an appropriate manner\n",
    "\n",
    "..."
   ]
  },
  {
   "cell_type": "markdown",
   "metadata": {},
   "source": [
    "\n",
    "**As you may currently realized, calculating the eigen-vectors is not a simple calculation process for large matrices.   \n",
    "So, like other optimization algorithms, we're totally consider to use iterative methods to solve this problem.\n",
    "And finally put a boundary condition on the number of iterations.**"
   ]
  },
  {
   "cell_type": "markdown",
   "metadata": {},
   "source": [
    "### Von Mises Iteration Algorithm(Power Iteration):\n",
    "In order to find eigen values and eigen vectors of a matrix, we can use an algorithm named \"***Von Mises Iteration***\".    \n",
    " is an eigenvalue algorithm: given a diagonalizable matrix\n",
    "$A$, the algorithm will produce a number\n",
    "$\\lambda$ , which is the greatest (in absolute value) eigenvalue of\n",
    "\n",
    "$A$, and a nonzero vector\n",
    "$v$, which is a corresponding eigenvector of\n",
    "$\\lambda$ , that is,\n",
    "$Av=\\lambda v$.    \n",
    "\n",
    "This algorithm is also known as Power Iteration algorithm.     \n",
    "\n",
    "Power Iteration is an iterative numerical method used to find the dominant eigenvalue and corresponding eigenvector of a square matrix. The dominant eigenvalue is the one with the **largest magnitude**. The method is particularly useful for large sparse matrices, where direct methods may be computationally expensive.  \n",
    "\n",
    "Here are the key steps involved in the Power Iteration method:\n",
    "1. ***Initialization:***   \n",
    "Start with an initial guess for the eigenvector\n",
    "$v_0$\n",
    " . The choice of\n",
    "$v_0$\n",
    "  is not critical, as long as it is not orthogonal to the eigenvector associated with the dominant eigenvalue.\n",
    "2. ***Iteration:***    \n",
    "Iteratively apply the matrix $A$\n",
    "to the current estimate of the eigenvector\n",
    "$v_k$\n",
    "  and normalize the result:\n",
    "  $$v_{k+1}=\\frac {A_{v_k}} {||A_{v_k}||}$$   \n",
    "  This step ensures that the eigenvector remains a unit vector.\n",
    "\n",
    "3. ***Convergence:***    \n",
    "Repeat the iteration until\n",
    "$v_k$\n",
    "  converges to the dominant eigenvector. The eigenvalue corresponding to this eigenvector is approximated by the [Rayleigh quotient](https://en.wikipedia.org/wiki/Rayleigh_quotient):\n",
    "  $$\\lambda_k=\\frac{(A_{v_k})^Tv_k}{v^T_k v_k}$$  \n",
    "  > **The eigenvalue approximation improves with each iteration.**\n",
    "\n",
    "\n",
    "4. ***Eigenvalue Extraction:***    \n",
    "The dominant eigenvalue is given by the Rayleigh quotient at convergence.\n",
    "\n"
   ]
  },
  {
   "cell_type": "markdown",
   "metadata": {},
   "source": [
    "#### Exercise 3.1:\n",
    "In this section, we are trying to implement the powerIteration method to find the dominant eigenvalue and corresponding eigenvector of a matrix."
   ]
  },
  {
   "cell_type": "markdown",
   "metadata": {},
   "source": [
    "**Initialization**: Just provide a simple random vector to start."
   ]
  },
  {
   "cell_type": "code",
   "execution_count": null,
   "metadata": {},
   "outputs": [],
   "source": [
    "# TODO\n",
    "v=?\n",
    "# Just a random 1*n vector using numpy\n"
   ]
  },
  {
   "cell_type": "markdown",
   "metadata": {},
   "source": [
    "***Iteration:***\n",
    "Use a for loop to iterate over iteration number and make it as better as you can."
   ]
  },
  {
   "cell_type": "code",
   "execution_count": null,
   "metadata": {},
   "outputs": [],
   "source": [
    "iteration=1000\n",
    "n = A.shape[0]\n",
    "for _ in range(iteration):\n",
    "    pass\n",
    "\n",
    "# Eigenvalue Extraction\n",
    "lambda_dominant = ?\n",
    "\n",
    "lambda_dominant, v"
   ]
  },
  {
   "cell_type": "markdown",
   "metadata": {},
   "source": [
    "#### Exercise 3.2:\n",
    "Now try to make the proper code as a function."
   ]
  },
  {
   "cell_type": "code",
   "execution_count": null,
   "metadata": {},
   "outputs": [],
   "source": [
    "#make it as function:\n",
    "def power_iteration(A, num_iterations=1000):\n",
    "    n = A.shape[0]\n",
    "\n",
    "    # Step 1\n",
    "    for _ in range(num_iterations):\n",
    "        # Step 2\n",
    "        pass\n",
    "    #Eigenvalue Extraction\n",
    "    lambda_dominant =?\n",
    "\n",
    "    return lambda_dominant, v"
   ]
  },
  {
   "cell_type": "markdown",
   "metadata": {},
   "source": [
    "#### Exercise 3.3:\n",
    "As long as power iteration algorithm only works on diagonalizable matrix, Provide a fucntion to check if it's diagonalizable matrix or not.(feel free to use any built-in function)"
   ]
  },
  {
   "cell_type": "code",
   "execution_count": null,
   "metadata": {},
   "outputs": [],
   "source": [
    "def diagonal(A): -> bool\n",
    "  pass\n",
    "  # TODO\n",
    "  return result"
   ]
  },
  {
   "cell_type": "markdown",
   "metadata": {},
   "source": [
    "#### Exercise 3.4:    \n",
    "- Explain the relation between the number of eigen values and the rank of the matrix.\n",
    "- Also explain why we need to check whether the matrix is diagonalizable or not."
   ]
  },
  {
   "cell_type": "markdown",
   "metadata": {},
   "source": [
    "your answer here    \n",
    "\n",
    "-----"
   ]
  },
  {
   "cell_type": "markdown",
   "metadata": {},
   "source": [
    "#### Exercise 3.5:\n",
    "Now as the final step just implement a function to extract all $n$ number of eigen values.\n"
   ]
  },
  {
   "cell_type": "code",
   "execution_count": null,
   "metadata": {},
   "outputs": [],
   "source": [
    "def eigenvalues(matrix, num_iterations):\n",
    "    n = matrix.shape[0]\n",
    "    eigenvalues_list = []\n",
    "    eigenvectors_list = []\n",
    "\n",
    "    for _ in range(n):\n",
    "        # Use power iteration to find dominant eigenvalue and eigenvector\n",
    "        eigenvalue, eigenvector = power_iteration(matrix, num_iterations)\n",
    "\n",
    "\n",
    "        #TODO\n",
    "\n",
    "\n",
    "        # Deflate the matrix\n",
    "        matrix = matrix - eigenvalue * np.outer(eigenvector, eigenvector)\n",
    "\n",
    "    return eigenvalues_list, eigenvectors_list"
   ]
  },
  {
   "cell_type": "markdown",
   "metadata": {},
   "source": [
    "##### Show Time!\n",
    "Now we need to check wheter you've implement them successfully or not."
   ]
  },
  {
   "cell_type": "code",
   "execution_count": 38,
   "metadata": {},
   "outputs": [],
   "source": [
    "#TODO\n",
    "# 1- Use your method to extract eigen vectors and eigen values\n",
    "# 2- Use the numpy built-in function to extract eigen vectors\n",
    "# 3- Compare the results"
   ]
  },
  {
   "cell_type": "markdown",
   "metadata": {},
   "source": [
    "## Diagonalization\n",
    "Now Let's figure out the diagonalization procedure as we may need it further.    \n",
    "\n",
    "Diagonalization is the process of transforming a square matrix into a diagonal matrix. A diagonal matrix is a matrix in which all the off-diagonal elements are zero, and the diagonal elements are non-zero. Diagonalization is a powerful tool for solving linear systems, analyzing matrices, and understanding their properties."
   ]
  },
  {
   "cell_type": "markdown",
   "metadata": {},
   "source": [
    "### Exercise 4\n",
    "Let's diagonalize the earlier $A$ matrix that we've provided earlier.    \n",
    "\n",
    "Describe a complete procedure to realize how to diagonalize a matrix.\n"
   ]
  },
  {
   "cell_type": "markdown",
   "metadata": {},
   "source": [
    "Your answer here...    \n",
    "\n",
    "\n",
    "-----------"
   ]
  },
  {
   "cell_type": "markdown",
   "metadata": {},
   "source": [
    "Is it true that all matrices are diagonalizable?\n",
    "say why or why not.     \n",
    "\n"
   ]
  },
  {
   "cell_type": "markdown",
   "metadata": {},
   "source": [
    "Your answer here...    \n",
    "\n",
    "\n",
    "-----------"
   ]
  },
  {
   "cell_type": "markdown",
   "metadata": {},
   "source": [
    "#### Exercise 4.1:\n",
    "Now let's diagonalize\n",
    " in the following manner:\n",
    "- Calculate eigen values\n",
    "- Calculate eigen vectors\n",
    "- Create Eigen vector matrix\n",
    "- Inverse the eigen vector matrix\n",
    "- Diagonalize the matrix"
   ]
  },
  {
   "cell_type": "markdown",
   "metadata": {},
   "source": [
    "> You already had implemented all those dunction which has came above.\n",
    "But, You're able to use the built-in ones for this exercise."
   ]
  },
  {
   "cell_type": "code",
   "execution_count": 40,
   "metadata": {},
   "outputs": [],
   "source": [
    "matrix=A\n",
    "\n",
    "#TODO\n",
    "# 1- Diagonalize the matrix"
   ]
  },
  {
   "cell_type": "markdown",
   "metadata": {},
   "source": [
    "## Spectral Clustering\n",
    "\n",
    "One of the most significant part of linear algebra applications is their great impact on machine learning algorithms.   \n",
    "In this section we're going to get familiar with an algorithm which named:...     \n",
    "## ```Spectral Clustering```\n",
    "\n",
    "\n",
    "Spectral clustering is a popular technique for clustering data points based on their pairwise similarity. It is widely used in machine learning, data mining, and image segmentation. Here's a brief overview:\n",
    "\n",
    "#### Basic Idea\n",
    "\n",
    "- **Representation as Graph**: Spectral clustering represents the data points as nodes in a graph, where the edges represent pairwise similarities or affinities between the data points.\n",
    "\n",
    "- **Graph Partitioning**: The goal of spectral clustering is to partition the graph into meaningful clusters, such that nodes within the same cluster are more similar to each other than to nodes in other clusters.\n",
    "\n",
    "- **Eigenvalue Decomposition**: Spectral clustering leverages the eigenvalues and eigenvectors of a matrix derived from the graph Laplacian (usually the normalized Laplacian) to perform dimensionality reduction and clustering.\n",
    "\n",
    "#### Steps of Spectral Clustering\n",
    "\n",
    "1. **Affinity Matrix**: Compute the affinity matrix $ W $, where $ W_{ij} $ represents the similarity between data points $ i $ and $ j $. Common similarity measures include Gaussian kernel, k-nearest neighbors, or fully connected graph with pairwise distances.\n",
    "\n",
    "2. **Graph Laplacian**: Construct the graph Laplacian matrix $ L $ from the affinity matrix $ W $. There are different types of Laplacians such as the unnormalized, normalized, and random walk Laplacians.\n",
    "\n",
    "3. **Eigenvalue Decomposition**: Compute the eigenvectors and eigenvalues of the graph Laplacian matrix. Typically, only the eigenvectors corresponding to the $ k $ smallest eigenvalues are retained.\n",
    "\n",
    "4. **Dimensionality Reduction**: Form a lower-dimensional representation of the data using the $ k $ eigenvectors (known as spectral embedding or spectral coordinates).\n",
    "\n",
    "5. **Clustering**: Perform clustering on the lower-dimensional representation using standard clustering algorithms such as k-means.\n",
    "\n",
    "#### Advantages\n",
    "\n",
    "- **Flexibility**: Spectral clustering can uncover complex structures and handle non-linear decision boundaries.\n",
    "- **Robustness**: It is robust to noise and can handle data with irregular shapes and varying densities.\n",
    "- **Scalability**: It can scale to large datasets by using sparse matrix operations and approximate techniques.\n",
    "\n",
    "#### Limitations\n",
    "\n",
    "- **Parameter Sensitivity**: Spectral clustering often requires tuning parameters such as the number of clusters $ k $ and the affinity function.\n",
    "- **Computational Complexity**: Computing the eigenvectors and eigenvalues can be computationally expensive, especially for large datasets.\n",
    "- **Interpretability**: Interpretation of the results may be challenging, especially when the clusters are high-dimensional or overlapping.\n",
    "\n",
    "#### Applications\n",
    "\n",
    "- **Image Segmentation**: Spectral clustering is widely used in image processing and computer vision for segmenting images into meaningful regions.\n",
    "- **Community Detection**: It is used in social network analysis and graph mining to identify communities or groups of nodes with similar connectivity patterns.\n",
    "- **Dimensionality Reduction**: Spectral clustering can be used for dimensionality reduction and visualization of high-dimensional data.\n",
    "- **Gene Expression Analysis**: It has applications in bioinformatics for clustering gene expression data and identifying co-expressed gene modules.\n",
    "\n",
    "#### Summary\n",
    "\n",
    "Spectral clustering is a powerful technique for clustering data based on similarity, leveraging graph theory and eigenvalue decomposition. It provides flexibility, robustness, and scalability, making it applicable to a wide range of domains and data types. However, it also comes with challenges such as parameter tuning and computational complexity. Overall, spectral clustering is a valuable tool in the toolkit of machine learning and data analysis practitioners. \n",
    "\n",
    "\n",
    "\n"
   ]
  },
  {
   "cell_type": "markdown",
   "metadata": {},
   "source": [
    "### Exercise 6\n",
    "In this exercise we will trying to implement spectral clustering algorithm for a sample dataset. As far as you go further, you'll totally get along with the terminologies. Don't be afraid of new arenas :)"
   ]
  },
  {
   "cell_type": "markdown",
   "metadata": {},
   "source": [
    "#### Exercise 6.1:\n",
    "Let us first generate some random data."
   ]
  },
  {
   "cell_type": "code",
   "execution_count": 50,
   "metadata": {},
   "outputs": [],
   "source": [
    "#TODO\n",
    "# Try to create some random data\n",
    "# You can use make_blobs function\n",
    "# We have these attrs: n_sample,centers,random_state\n",
    "\n",
    "X, _ = ...\n"
   ]
  },
  {
   "cell_type": "markdown",
   "metadata": {},
   "source": [
    "You can see these data as an example of result:\n",
    "- n samples=300\n",
    "- centers =4\n",
    "- random state =42"
   ]
  },
  {
   "cell_type": "code",
   "execution_count": 54,
   "metadata": {},
   "outputs": [
    {
     "name": "stderr",
     "output_type": "stream",
     "text": [
      "/tmp/ipykernel_12181/439365983.py:1: UserWarning: No data for colormapping provided via 'c'. Parameters 'cmap' will be ignored\n",
      "  plt.scatter(X[:, 0], X[:, 1], cmap='viridis')\n"
     ]
    },
    {
     "data": {
      "image/png": "[encoded data removed]",
      "text/plain": [
       "<Figure size 640x480 with 1 Axes>"
      ]
     },
     "metadata": {},
     "output_type": "display_data"
    }
   ],
   "source": [
    "plt.scatter(X[:, 0], X[:, 1], cmap='viridis')\n",
    "plt.title(\"Random Data\")\n",
    "plt.xlabel(\"Feature 1\")\n",
    "plt.ylabel(\"Feature 2\")\n",
    "plt.show()\n",
    "\n",
    "# This is an example, your answer might be different."
   ]
  },
  {
   "cell_type": "markdown",
   "metadata": {},
   "source": [
    "Good!   \n",
    "Now we should compute the Affinity matrix.\n"
   ]
  },
  {
   "cell_type": "markdown",
   "metadata": {},
   "source": [
    "### Understanding Affinity Matrix in Machine Learning\n",
    "An affinity matrix, also known as a similarity matrix or kernel, is a concept used in machine learning, particularly within the realms of clustering and image segmentation. It is a powerful tool for identifying the structure within data by quantifying the similarity between pairs of data points. The affinity matrix plays a crucial role in algorithms such as spectral clustering and can be used to enhance the performance of methods that rely on the notion of data points being related or similar to one another."
   ]
  },
  {
   "cell_type": "markdown",
   "metadata": {},
   "source": [
    "### What is an Affinity Matrix?\n",
    "An affinity matrix is a square, symmetric matrix used to represent the pairwise similarities between objects in a dataset. Each element of the matrix, denoted as A(i, j), represents a measure of similarity between the data point i and data point j. The diagonal elements of the matrix typically have the highest values, as they represent the similarity of each point with itself, which is usually the maximum possible similarity.\n",
    "\n",
    "The specific definition of \"similarity\" can vary depending on the context and can be defined using various metrics such as Euclidean distance, cosine similarity, correlation, or other domain-specific measures. The choice of similarity measure directly influences the construction of the affinity matrix and, consequently, the performance of the machine learning algorithm utilizing it."
   ]
  },
  {
   "cell_type": "markdown",
   "metadata": {},
   "source": [
    "But there is a problem."
   ]
  },
  {
   "cell_type": "markdown",
   "metadata": {},
   "source": [
    "### How is an Affinity Matrix Constructed?\n",
    "The construction of an affinity matrix involves the following steps:\n",
    "\n",
    "Choose an appropriate similarity measure based on the nature of the data and the problem at hand.\n",
    "Compute the pairwise similarities between all data points in the dataset using the chosen measure.\n",
    "Fill the matrix with these similarity values, ensuring that the matrix is symmetric, i.e., $A(i, j) = A(j, i)$.    \n",
    "\n",
    "Normalize the matrix if necessary, depending on the algorithm requirements.\n",
    "For example, if the similarity measure is the Gaussian kernel, the affinity matrix A can be computed using the formula:\n",
    "\n",
    "$$A(i, j) = exp(-gamma * ||x_i - x_j||^2)$$\n",
    "\n",
    "where $||x_i - x_j||$ represents the Euclidean distance between data points $x_i$ and $x_j$, and gamma is a scaling parameter that controls the width of the Gaussian kernel."
   ]
  },
  {
   "cell_type": "markdown",
   "metadata": {},
   "source": [
    "You can read about kernels [here](https://en.wikipedia.org/wiki/Kernel_method)\n",
    "In a short brief we can can say kernels are kind of function that computes a similarity measure between two data points in a high-dimensional space. Kernels are commonly used in support vector machines (SVMs) to map input data into a higher-dimensional space where it is easier to separate classes of data points. Kernels allow SVMs to efficiently perform complex classification tasks by implicitly mapping data points into a higher-dimensional space without explicitly calculating the transformed data points. This helps in capturing complex relationships in the data and making accurate predictions. Some common types of kernels include linear kernels, polynomial kernels, radial basis function (RBF) kernels, and sigmoid kernels."
   ]
  },
  {
   "cell_type": "markdown",
   "metadata": {},
   "source": [
    "#### Exericse 6.2\n",
    "Lets construct affinity matrix"
   ]
  },
  {
   "cell_type": "code",
   "execution_count": 61,
   "metadata": {},
   "outputs": [
    {
     "data": {
      "text/plain": [
       "(300, 300)"
      ]
     },
     "execution_count": 61,
     "metadata": {},
     "output_type": "execute_result"
    }
   ],
   "source": [
    "#TODO\n",
    "# Use the formula that i provided before.\n",
    "# Remember A is an square matrix not a vector\n",
    "# Gamma value doesn't need to change, but if you want that, feel free to change.\n",
    "gamma=1.0\n",
    "A=...\n",
    "\n",
    "\n",
    "# A.shape"
   ]
  },
  {
   "cell_type": "markdown",
   "metadata": {},
   "source": [
    "### Graph Laplacian\n",
    "In mathematics and computer science, the graph Laplacian is a matrix representation of a graph that captures the relationships between its nodes. It is commonly used in spectral graph theory and machine learning for tasks such as clustering, dimensionality reduction, and semi-supervised learning.    \n",
    "The graph Laplacian matrix plays a crucial role in spectral clustering algorithms, where the eigenvalues and eigenvectors of the Laplacian are used to partition the graph into clusters based on the graph's structure. It also helps in capturing the smoothness and connectivity of the graph, making it a powerful tool in various machine learning tasks that involve graph data.(More [info](https://csustan.csustan.edu/~tom/Clustering/GraphLaplacian-tutorial.pdf))"
   ]
  },
  {
   "cell_type": "markdown",
   "metadata": {},
   "source": [
    "The Laplacian matrix is defined as follows:    \n",
    "Given a graph $G := (V, E)$ where $V := \\{v_1, v_2, \\dots, v_n\\}$ is the set of nodes/vertices and $E := \\{e_1, e_2, \\dots, e_m\\}$ is the set of edges, with an adjacency matrix $A \\in \\{0,1\\}^{n \\times n}$, where\n",
    "\n",
    "$$A_{i,j} := \\begin{cases} 1,& \\text{if there is an edge between} \\ v_i \\ \\text{and} \\ v_j \\\\ 0, & \\text{otherwise}\\end{cases}$$\n",
    "and degree matrix $D \\in \\mathbb{Z}^{n \\times n}$, where\n",
    "\n",
    "$$D_{i,j} := \\begin{cases} \\text{degree}(v_i),& \\text{if} \\ i = j \\\\ 0, & \\text{otherwise}\\end{cases}$$\n",
    "the Laplacian matrix is defined as\n",
    "\n",
    "$$L := D - A$$\n",
    "This definition is super simple, but it describes something quite deep: it’s the discrete analogue to the Laplacian operator on multivariate continuous functions. How does such a simple definition capture such a complex idea? We will demonstrate this in the remainder of this post."
   ]
  },
  {
   "cell_type": "markdown",
   "metadata": {},
   "source": [
    "#### Exercise 6.3\n",
    "Now Let's generate Degree matrix. This can be a simple task.  \n",
    "You just need to know several facts:\n",
    "- Affinity matrix is a symmetric matrix.\n",
    "- Each row(column) may represent a node.\n",
    "- You can calculated the degree using a simple function.\n",
    "- ```np.sum & np.diag```"
   ]
  },
  {
   "cell_type": "code",
   "execution_count": 76,
   "metadata": {},
   "outputs": [],
   "source": [
    "D = ...\n",
    "\n"
   ]
  },
  {
   "cell_type": "markdown",
   "metadata": {},
   "source": [
    "#### Exercise 6.4\n",
    "Now Just simply calculated the laplacian matrix using $A$ and $D$"
   ]
  },
  {
   "cell_type": "code",
   "execution_count": 77,
   "metadata": {},
   "outputs": [],
   "source": [
    "L=..."
   ]
  },
  {
   "cell_type": "markdown",
   "metadata": {},
   "source": [
    "##### Exercise 6.4.1\n",
    "We should now try to normalize the Laplacian matrix.\n",
    "The goal of normalization is making the diagonal entries of the Laplacian matrix to be all unit, also scaling off-diagonal entries correspondingly. In a weighted graph, a vertex may have a large degree because of a small number of connected edges but with large weights just as well as due to a large number of connected edges with unit weights.      \n",
    " \n",
    "A popular normalized spectral clustering technique is the normalized cuts algorithm or Shi–Malik algorithm introduced by Jianbo Shi and Jitendra Malik, commonly used for image segmentation. It partitions points into two sets $(B_1,B_2)$ based on the eigenvector $v$\n",
    "corresponding to the second-smallest eigenvalue of the symmetric normalized Laplacian defined as $$L^{norm}=I-D^{-1/2}AD^{-1/2}$$"
   ]
  },
  {
   "cell_type": "code",
   "execution_count": 91,
   "metadata": {},
   "outputs": [],
   "source": [
    "#TODO\n",
    "#Create Normalized Laplacian matrix\n",
    "L=..."
   ]
  },
  {
   "cell_type": "markdown",
   "metadata": {},
   "source": [
    "### The sounds of Eigen\n",
    "From an unseen realm, the arena emerges, a hidden stage for a grand drama. Yet, its true essence lies not in the spectacle itself, but in the silent whispers – the eigenvalues and eigenvectors – that orchestrate its phenomenal grace.\n",
    "\n",
    "\n",
    "Now, It's time to feel nothing but an spectacular illusion of them.\n",
    "Let's see how.\n"
   ]
  },
  {
   "cell_type": "markdown",
   "metadata": {},
   "source": [
    "#### Exercise 6.5\n",
    "In this section you should calculate the eigen vectors and eigen values of our Laplacian matrix.(You're able to use numpy built-in methods or your own method)"
   ]
  },
  {
   "cell_type": "code",
   "execution_count": 84,
   "metadata": {},
   "outputs": [],
   "source": [
    "#TODO\n",
    "\n",
    "eigenvalues, eigenvectors = ...\n"
   ]
  },
  {
   "cell_type": "markdown",
   "metadata": {},
   "source": [
    "As long as the number of eigen vectors may be too many, we can select the first $K$ one of them.(K is the number of clusters, that you had been annonced earlier)    \n",
    "> number of clusters is same as number of centers."
   ]
  },
  {
   "cell_type": "code",
   "execution_count": 79,
   "metadata": {},
   "outputs": [],
   "source": [
    "#TODO\n",
    "k = ...  # Number of clusters\n",
    "eigenvectors = eigenvectors[:, :k] \n",
    "\n",
    "# We select first k eigen vectors"
   ]
  },
  {
   "cell_type": "markdown",
   "metadata": {},
   "source": [
    "After you've chosen those eigen vectors, it's time to use an algorithm named KMeans and apply that on our eigen vectors matrix.   \n",
    "Let us review the algorithm one more time.\n",
    "\n",
    "-------\n",
    "[Basic Algorithm](https://en.wikipedia.org/wiki/Spectral_clustering)\n",
    "\n",
    "- Calculate the Laplacian ${L}$ (or the normalized Laplacian)\n",
    "- Calculate the first ${ k}$ eigenvectors (the eigenvectors corresponding to the \n",
    "$\n",
    "{ k}$ smallest eigenvalues of \n",
    "$\n",
    "{L}$)\n",
    "\n",
    "- Consider the matrix formed by the first ${ k}$ eigenvectors; the $\n",
    "{ l}^{th}$ row defines the features of graph node \n",
    "$\n",
    "{l}$\n",
    "- Cluster the graph nodes based on these features (e.g., using k-means clustering)\n",
    "\n",
    "\n",
    "-------    \n",
    "\n",
    "\n",
    "So, We should use K-means in order to complete our project.\n"
   ]
  },
  {
   "cell_type": "code",
   "execution_count": 165,
   "metadata": {},
   "outputs": [
    {
     "name": "stderr",
     "output_type": "stream",
     "text": [
      "/home/mreza/Desktop/Sources/IntroMl/qenv/lib/python3.10/site-packages/sklearn/cluster/_kmeans.py:870: FutureWarning: The default value of `n_init` will change from 10 to 'auto' in 1.4. Set the value of `n_init` explicitly to suppress the warning\n",
      "  warnings.warn(\n"
     ]
    },
    {
     "data": {
      "image/png": "[encoded data removed]",
      "text/plain": [
       "<Figure size 640x480 with 1 Axes>"
      ]
     },
     "metadata": {},
     "output_type": "display_data"
    }
   ],
   "source": [
    "kmeans=KMeans(n_clusters=k).fit(eigenvectors)\n",
    "labels = kmeans.labels_\n",
    "plt.scatter(X[:, 0], X[:, 1], c=labels)\n",
    "plt.title('My Spectral Clustering')\n",
    "plt.xlabel('Feature 1')\n",
    "plt.ylabel('Feature 2')\n",
    "plt.show()"
   ]
  },
  {
   "cell_type": "markdown",
   "metadata": {},
   "source": [
    "If you see something like this, you should be proud of yourself because what you've done!"
   ]
  },
  {
   "cell_type": "markdown",
   "metadata": {},
   "source": [
    "Finally we can checkout the built-in spectral clustering function in ```scikit-learn``` in order to see the true essence of grandeur!"
   ]
  },
  {
   "cell_type": "markdown",
   "metadata": {},
   "source": [
    "#### Final Exercise:\n",
    "Apply the spectral clustering on our data (matrix `X`)   \n",
    "See the $?$ marks."
   ]
  },
  {
   "cell_type": "code",
   "execution_count": 167,
   "metadata": {},
   "outputs": [
    {
     "data": {
      "image/png": "[encoded data removed]",
      "text/plain": [
       "<Figure size 640x480 with 1 Axes>"
      ]
     },
     "metadata": {},
     "output_type": "display_data"
    }
   ],
   "source": [
    "Spec = SpectralClustering(n_clusters=?,affinity=\"rbf\" ,eigen_solver='arpack')\n",
    "labels = Spec.fit_predict(?)\n",
    "plt.scatter(X[:, 0], X[:, 1], c=labels, cmap='viridis')\n",
    "plt.title('Scikit-learn Spectral Clustering')\n",
    "plt.xlabel('Feature 1')\n",
    "plt.ylabel('Feature 2')\n",
    "plt.show()"
   ]
  },
  {
   "cell_type": "markdown",
   "metadata": {},
   "source": [
    "--------------"
   ]
  },
  {
   "cell_type": "markdown",
   "metadata": {},
   "source": [
    "# Data Selection through Spectral Analysis(Extra point)"
   ]
  },
  {
   "cell_type": "markdown",
   "metadata": {},
   "source": [
    "### Attention:\n",
    "    It's highly recommended not to run this part of the project on your local system. We need to train a deep learning model using PyTorch.\n",
    "    So, feel free to use colab.research.google.com instead of your local machine"
   ]
  },
  {
   "cell_type": "markdown",
   "metadata": {},
   "source": [
    "Alright,\n",
    "In this part of the project, We are going to train a deep learning model using some criteria based on "
   ]
  },
  {
   "cell_type": "markdown",
   "metadata": {},
   "source": [
    "\n",
    "## Objective:\n",
    "In this part, we will implement a simple data selection mechanism based on **graph theory** concepts, specifically the **Laplacian matrix** and the **Fiedler vector**. These tools will help us identify the most informative data points within a batch of data.\n",
    "\n",
    "### Key Concepts:\n",
    "1. **Laplacian Matrix**: A matrix representation of a graph that reflects the relationships between nodes (data points).\n",
    "2. **Fiedler Vector**: The second smallest eigenvector of the Laplacian matrix, used to partition the graph into subsets of nodes.\n",
    "3. **Filter Ratio**: We will use a filter ratio of 0.4, meaning we select the top 40% of the most informative data points in each batch.\n",
    "\n",
    "### Workflow:\n",
    "1. Generate or use a random dataset.\n",
    "2. Calculate the **Laplacian matrix** for each batch of data.\n",
    "3. Compute the **Fiedler vector** using `numpy`.\n",
    "4. Use the Fiedler vector to select the top 40% of data points from each batch.\n",
    "5. Train a simple neural network using the filtered data.\n",
    "\n"
   ]
  },
  {
   "cell_type": "markdown",
   "metadata": {},
   "source": [
    "## Cell 2: Setup and Imports\n",
    "We import the necessary libraries, including PyTorch for neural network training and `numpy` for linear algebra operations.\n"
   ]
  },
  {
   "cell_type": "code",
   "execution_count": 1,
   "metadata": {},
   "outputs": [],
   "source": [
    "import torch\n",
    "import torch.nn as nn\n",
    "import torch.optim as optim\n",
    "from torch.utils.data import DataLoader, TensorDataset\n",
    "import numpy as np\n",
    "import matplotlib.pyplot as plt"
   ]
  },
  {
   "cell_type": "markdown",
   "metadata": {},
   "source": [
    "## Cell 3: Generate Random Dataset\n",
    "We create a synthetic dataset of 2D points with binary labels. This dataset is used to simulate a simple classification task.\n"
   ]
  },
  {
   "cell_type": "code",
   "execution_count": 2,
   "metadata": {},
   "outputs": [],
   "source": [
    "# Generate random 2D dataset\n",
    "num_samples = 1000\n",
    "X = np.random.rand(num_samples, 2)\n",
    "y = (X[:, 0] + X[:, 1] > 1).astype(int)  # Binary labels based on a simple rule\n",
    "\n",
    "# Convert to PyTorch tensors\n",
    "X_tensor = torch.tensor(X, dtype=torch.float32)\n",
    "y_tensor = torch.tensor(y, dtype=torch.long)\n",
    "\n",
    "# Create DataLoader\n",
    "dataset = TensorDataset(X_tensor, y_tensor)\n",
    "data_loader = DataLoader(dataset, batch_size=50, shuffle=True)\n"
   ]
  },
  {
   "cell_type": "markdown",
   "metadata": {},
   "source": [
    "## Cell 4: Define the Neural Network Model\n",
    "We define a simple feedforward neural network to classify the data points.\n"
   ]
  },
  {
   "cell_type": "code",
   "execution_count": 3,
   "metadata": {},
   "outputs": [],
   "source": [
    "class SimpleModel(nn.Module):\n",
    "    def __init__(self):\n",
    "        super(SimpleModel, self).__init__()\n",
    "        self.hidden = nn.Linear(2, 16)\n",
    "        self.output = nn.Linear(16, 2)\n",
    "    \n",
    "    def forward(self, x):\n",
    "        x = torch.relu(self.hidden(x))\n",
    "        x = self.output(x)\n",
    "        return x\n",
    "\n",
    "model = SimpleModel()\n"
   ]
  },
  {
   "cell_type": "markdown",
   "metadata": {},
   "source": [
    "## Cell 5: Laplacian Matrix and Fiedler Vector Calculation\n",
    "\n",
    "### Goal:\n",
    "In this section, we calculate the **Laplacian Matrix** and the **Fiedler Vector**, which will be used to identify the most informative data points in each batch.\n",
    "\n",
    "### Key Definitions:\n",
    "\n",
    "#### 1. Affinity Matrix ($A$):\n",
    "The Affinity Matrix represents the similarity between data points. Each element of $A$ is calculated as:\n",
    "$$\n",
    "A_{ij} = \\exp\\left(-\\|x_i - x_j\\|^2\\right)\n",
    "$$\n",
    "where:\n",
    "- $x_i$ and $x_j$ are feature vectors of data points $i$ and $j$, respectively.\n",
    "- $\\|\\cdot\\|$ denotes the Euclidean distance.\n",
    "\n",
    "The Affinity Matrix is symmetric, with $A_{ii} = 1$ for all $i$.\n",
    "\n",
    "---\n",
    "\n",
    "#### 2. Degree Matrix ($D$):\n",
    "The Degree Matrix is a diagonal matrix where each diagonal entry represents the sum of affinities for a specific data point:\n",
    "$$\n",
    "D_{ii} = \\sum_{j} A_{ij}\n",
    "$$\n",
    "The off-diagonal elements of $D$ are all zero.\n",
    "\n",
    "---\n",
    "\n",
    "#### 3. Laplacian Matrix ($L$):\n",
    "The Laplacian Matrix is derived as:\n",
    "$$\n",
    "L = D - A\n",
    "$$\n",
    "Here:\n",
    "- $L$ captures the graph structure of the data.\n",
    "- $L$ is positive semi-definite and symmetric.\n",
    "\n",
    "---\n",
    "\n",
    "#### 4. Fiedler Vector:\n",
    "The **Fiedler Vector** is the eigenvector corresponding to the **second smallest eigenvalue** of the Laplacian Matrix. It plays a crucial role in graph partitioning and identifies the most significant directions in the data.\n",
    "\n",
    "---\n",
    "\n",
    "### Steps:\n",
    "1. Compute the Affinity Matrix ($A$) for the given batch of data.\n",
    "2. Derive the Degree Matrix ($D$) from $A$.\n",
    "3. Calculate the Laplacian Matrix ($L$).\n",
    "4. Perform eigen decomposition on $L$ to extract eigenvalues and eigenvectors.\n",
    "5. Use the second smallest eigenvector (Fiedler Vector) to rank the data points.\n",
    "\n",
    "---\n",
    "\n",
    "### Student Task:\n",
    "You will implement the `calculate_fiedler_vector` function. Specifically, you will:\n",
    "1. Construct the Affinity Matrix ($A$) using pairwise Euclidean distances.\n",
    "2. Compute the Degree Matrix ($D$).\n",
    "3. Derive the Laplacian Matrix ($L$).\n",
    "4. Use **`numpy`** to calculate the eigenvalues and eigenvectors of $L$.\n",
    "5. Extract the Fiedler Vector and use it to filter the data.\n",
    "\n",
    "Use this information as a guide for completing the implementation.\n"
   ]
  },
  {
   "cell_type": "code",
   "execution_count": 5,
   "metadata": {},
   "outputs": [],
   "source": [
    "def calculate_fiedler_vector(batch_data):\n",
    "    \"\"\"\n",
    "    Calculate the Laplacian matrix and Fiedler vector for the given data batch.\n",
    "    Args:\n",
    "        batch_data: A numpy array of shape (batch_size, num_features).\n",
    "    Returns:\n",
    "        indices: Indices of the most informative data points based on the Fiedler vector.\n",
    "    \"\"\"\n",
    "    batch_size = batch_data.shape[0]\n",
    "    \n",
    "    # Step 1: Construct the Affinity Matrix (students should complete this)\n",
    "    # Hint: Use the Euclidean distance between points\n",
    "    affinity_matrix = ...\n",
    "    degree_matrix = ...\n",
    "    \n",
    "    laplacian_matrix = ...\n",
    "    \n",
    "    eigenvalues, eigenvectors = ...\n",
    "    \n",
    "    fiedler_vector = ...  # Second eigenvector\n",
    "\n",
    "    # Step 6: Sort data points based on Fiedler vector values\n",
    "    sorted_indices = np.argsort(fiedler_vector)\n",
    "    selected_count = int(0.4 * batch_size)  \n",
    "    selected_indices = sorted_indices[:selected_count]\n",
    "\n",
    "    return selected_indices\n"
   ]
  },
  {
   "cell_type": "markdown",
   "metadata": {},
   "source": [
    "## Cell 6: Training Loop\n",
    "This training loop uses the `calculate_fiedler_vector` function to filter data points within each batch based on the Fiedler vector. Only the selected data points are used for training.\n"
   ]
  },
  {
   "cell_type": "code",
   "execution_count": 6,
   "metadata": {},
   "outputs": [
    {
     "name": "stdout",
     "output_type": "stream",
     "text": [
      "Epoch [1/10], Loss: 0.7199\n",
      "Epoch [2/10], Loss: 0.6158\n",
      "Epoch [3/10], Loss: 0.6427\n",
      "Epoch [4/10], Loss: 0.6538\n",
      "Epoch [5/10], Loss: 0.6376\n",
      "Epoch [6/10], Loss: 0.6838\n",
      "Epoch [7/10], Loss: 0.6246\n",
      "Epoch [8/10], Loss: 0.5745\n",
      "Epoch [9/10], Loss: 0.5588\n",
      "Epoch [10/10], Loss: 0.5399\n"
     ]
    }
   ],
   "source": [
    "# Define loss function and optimizer\n",
    "criterion = nn.CrossEntropyLoss()\n",
    "optimizer = optim.SGD(model.parameters(), lr=0.01)\n",
    "\n",
    "# Training loop\n",
    "num_epochs = 10\n",
    "for epoch in range(num_epochs):\n",
    "    for batch_idx, (data, labels) in enumerate(data_loader):\n",
    "        # Convert data to numpy for Fiedler vector calculation\n",
    "        data_np = data.numpy()\n",
    "        selected_indices = calculate_fiedler_vector(data_np)\n",
    "        \n",
    "        # Select the most informative data points\n",
    "        selected_data = data[selected_indices]\n",
    "        selected_labels = labels[selected_indices]\n",
    "\n",
    "        # Forward pass\n",
    "        outputs = model(selected_data)\n",
    "        loss = criterion(outputs, selected_labels)\n",
    "\n",
    "        # Backward pass and optimization\n",
    "        optimizer.zero_grad()\n",
    "        loss.backward()\n",
    "        optimizer.step()\n",
    "    \n",
    "    print(f\"Epoch [{epoch+1}/{num_epochs}], Loss: {loss.item():.4f}\")\n"
   ]
  },
  {
   "cell_type": "markdown",
   "metadata": {},
   "source": [
    "## Cell 7: Visualizing Results\n",
    "We plot the decision boundary learned by the model along with the original dataset to visualize the classification results.\n"
   ]
  },
  {
   "cell_type": "code",
   "execution_count": 8,
   "metadata": {},
   "outputs": [
    {
     "data": {
      "image/png": "[encoded data removed]",
      "text/plain": [
       "<Figure size 640x480 with 1 Axes>"
      ]
     },
     "metadata": {},
     "output_type": "display_data"
    }
   ],
   "source": [
    "# Generate a grid of points for decision boundary visualization\n",
    "xx, yy = torch.meshgrid(torch.linspace(0, 1, 100), torch.linspace(0, 1, 100))\n",
    "grid = torch.cat([xx.reshape(-1, 1), yy.reshape(-1, 1)], dim=1)\n",
    "\n",
    "# Predict labels for grid points\n",
    "with torch.no_grad():\n",
    "    predictions = model(grid).argmax(dim=1).reshape(100, 100)\n",
    "\n",
    "# Visualize the original dataset and the filtered data\n",
    "for batch_idx, (data, labels) in enumerate(data_loader):\n",
    "    # Select a single batch\n",
    "    data_np = data.numpy()\n",
    "    selected_indices = calculate_fiedler_vector(data_np)\n",
    "    \n",
    "    # Extract filtered data\n",
    "    selected_data = data[selected_indices]\n",
    "    selected_labels = labels[selected_indices]\n",
    "    \n",
    "    # Plot the decision boundary\n",
    "    plt.contourf(xx.numpy(), yy.numpy(), predictions.numpy(), alpha=0.5, cmap=\"coolwarm\")\n",
    "    \n",
    "    # Plot original data points\n",
    "    plt.scatter(data_np[:, 0], data_np[:, 1], c=\"gray\", alpha=0.5, label=\"Original Data\")\n",
    "    \n",
    "    # Highlight selected (filtered) data points\n",
    "    plt.scatter(\n",
    "        selected_data[:, 0], selected_data[:, 1], c=\"red\", label=\"Selected Data\", edgecolors=\"k\"\n",
    "    )\n",
    "    \n",
    "    # Add plot details\n",
    "    plt.title(\"Decision Boundary and Data Curation\")\n",
    "    plt.xlabel(\"Feature 1\")\n",
    "    plt.ylabel(\"Feature 2\")\n",
    "    plt.legend()\n",
    "    plt.show()\n",
    "    \n",
    "    # Only visualize the first batch\n",
    "    break\n"
   ]
  },
  {
   "cell_type": "markdown",
   "metadata": {},
   "source": [
    "-----"
   ]
  },
  {
   "cell_type": "markdown",
   "metadata": {},
   "source": [
    "      \n",
    "# ```Congratulations!```    \n",
    "You have successfully completed the project!   🎉🎉    \n",
    "\n",
    "wish you nothing but the best and good luck.✌️✌️"
   ]
  }
 ],
 "metadata": {
  "kernelspec": {
   "display_name": "Python 3",
   "language": "python",
   "name": "python3"
  },
  "language_info": {
   "codemirror_mode": {
    "name": "ipython",
    "version": 3
   },
   "file_extension": ".py",
   "mimetype": "text/x-python",
   "name": "python",
   "nbconvert_exporter": "python",
   "pygments_lexer": "ipython3",
   "version": "3.12.6"
  }
 },
 "nbformat": 4,
 "nbformat_minor": 2
}
