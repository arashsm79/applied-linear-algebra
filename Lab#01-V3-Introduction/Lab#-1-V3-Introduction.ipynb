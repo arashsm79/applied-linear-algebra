{
 "cells": [
  {
   "cell_type": "markdown",
   "id": "69104d5a-9e3f-4428-ae62-701cb8031eb6",
   "metadata": {},
   "source": [
    "# Applied Linear Algebra - Lab 1\n",
    "Ferdowsi University of Mashhad - Computer Engineering Department\n",
    "\n",
    "* [Numpy](#Numpy)\n",
    "* [Exercise 1](#Exercise-1)\n",
    "* [Exercise 2](#Exercise-2)\n",
    "* [Exercise 3](#Exercise-3)\n",
    "* [Implementing Gaussian Elimination](#Implementing-Gaussian-Elimination) \n",
    "* [Polynomial Interpolation](#Polynomial-Interpolation)\n",
    "* [Hill Cipher Encryption](#Hill-Cipher-Encryption)\n",
    "    * [Encryption](#Encryption) \n",
    "    * [Decryption](#Decryption)\n",
    "* [Known plaintext attack on Hill Cipher](#Known-plaintext-attack-on-Hill-Cipher)"
   ]
  },
  {
   "cell_type": "markdown",
   "id": "8f9853cf-a7e4-40a6-8d19-2fc8a7077fd8",
   "metadata": {},
   "source": [
    "# Numpy\n",
    "\n",
    "Datasets can be made of collections of images, sounds, videos, documents, numerical measurements, or, really anything. Despite the diversity, it will help us to think of all data fundamentally as arrays of numbers.\n",
    "\n",
    "| Data type\t    | Arrays of Numbers? |\n",
    "|---------------|-------------|\n",
    "|Images | Pixel brightness across different channels|\n",
    "|Videos | Pixels brightness across different channels for each frame | \n",
    "|Sound | Intensity over time |\n",
    "|Numbers | No need for transformation | \n",
    "|Tables | Mapping from strings to numbers |\n",
    "\n",
    "\n",
    "Therefore, the efficient storage and manipulation of large arrays of numbers is really fundamental to the process of doing data science. Numpy is one of the libraries within the scientific stack that specialize in handling numerical arrays and data tables. \n",
    "\n",
    "[Numpy](http://www.numpy.org/) is short for _numerical python_, and provides functions that are especially useful when you have to work with large arrays and matrices of numeric data, like matrix multiplications.  \n",
    "\n",
    "The array object class is the foundation of Numpy, and Numpy arrays are like lists in Python, except that every thing inside an array must be of the same type, like int or float. As a result, arrays provide much more efficient storage and data operations, especially as the arrays grow larger in size. However, in other ways, NumPy arrays are very similar to Python's built-in list type, but with the exception of Vectorization."
   ]
  },
  {
   "cell_type": "code",
   "execution_count": 1,
   "id": "262b6b48-0d04-4aef-9e98-0589290be493",
   "metadata": {},
   "outputs": [],
   "source": [
    "import numpy as np\n",
    "import matplotlib.pyplot as plt\n",
    "import math\n",
    "from IPython import display\n",
    "from sympy import mod_inverse\n",
    "from typing import Dict, List\n",
    "\n",
    "# Global floating point precision\n",
    "precision = 2"
   ]
  },
  {
   "cell_type": "markdown",
   "id": "f3ecd63e-54ec-4075-bb00-8e50c42de7de",
   "metadata": {},
   "source": [
    "## Arrays\n",
    "A numpy array is a grid of values, all of the same type, and is indexed by a tuple of nonnegative integers. The shape of an array is a tuple of integers giving the size of the array along each dimension. A a one dimensional array (shape `(n,)`) corresponds to a vector.\n",
    "\n",
    "We can initialize numpy arrays from nested Python lists, and access elements using square brackets:"
   ]
  },
  {
   "cell_type": "code",
   "execution_count": 2,
   "id": "c71023e7-eff4-4129-b2b7-02fcedb006eb",
   "metadata": {},
   "outputs": [
    {
     "name": "stdout",
     "output_type": "stream",
     "text": [
      "a is type:  <class 'numpy.ndarray'>\n",
      "The shape of the vector a is:  (3,)\n",
      "1 2 3\n",
      "[5 2 3]\n"
     ]
    }
   ],
   "source": [
    "a = np.array([1, 2, 3])  # Create a 1 dimensional array i.e. a vector\n",
    "\n",
    "print(\"a is type: \", type(a))\n",
    "print(\"The shape of the vector a is: \", a.shape)\n",
    "print(a[0], a[1], a[2])  # indexing\n",
    "a[0] = 5  # Change an element of the array\n",
    "print(a)     "
   ]
  },
  {
   "cell_type": "code",
   "execution_count": 3,
   "id": "f1dd49fa-1c54-4a7b-bc9e-c29a6a885869",
   "metadata": {},
   "outputs": [
    {
     "name": "stdout",
     "output_type": "stream",
     "text": [
      "[[1 2 3]\n",
      " [4 5 6]]\n",
      "The shape of the matrix b is:  (2, 3)\n",
      "1 2 4\n"
     ]
    }
   ],
   "source": [
    "b = np.array([[1,2,3],[4,5,6]])   # Create a 2 dimensional array i.e. a matrix\n",
    "print(b)\n",
    "print(\"The shape of the matrix b is: \", b.shape)\n",
    "print(b[0, 0], b[0, 1], b[1, 0])"
   ]
  },
  {
   "cell_type": "markdown",
   "id": "9c0df7a3-69a9-463d-b677-a231ca4d11c8",
   "metadata": {},
   "source": [
    "## Array Arithmetic\n",
    "Basic mathematical functions operate elementwise on arrays and matrices (which are just 2D arrays), and are available both as operator overloads and as functions in the numpy module:"
   ]
  },
  {
   "cell_type": "code",
   "execution_count": 4,
   "id": "8a9fece7-2323-45a9-a55b-d13a06219c1a",
   "metadata": {},
   "outputs": [
    {
     "name": "stdout",
     "output_type": "stream",
     "text": [
      "[[ 6  8]\n",
      " [10 12]]\n",
      "[[ 6  8]\n",
      " [10 12]]\n"
     ]
    }
   ],
   "source": [
    "# Define two matrices\n",
    "x = np.array([[1,2],[3,4]])\n",
    "y = np.array([[5,6],[7,8]])\n",
    "\n",
    "# Elementwise sum:\n",
    "print(x + y)\n",
    "print(np.add(x, y))"
   ]
  },
  {
   "cell_type": "code",
   "execution_count": 5,
   "id": "cb94e57e-7f68-4369-9401-63a9eda85b72",
   "metadata": {},
   "outputs": [
    {
     "name": "stdout",
     "output_type": "stream",
     "text": [
      "[[-4 -4]\n",
      " [-4 -4]]\n",
      "[[-4 -4]\n",
      " [-4 -4]]\n"
     ]
    }
   ],
   "source": [
    "# Elementwise difference:\n",
    "print(x - y)\n",
    "print(np.subtract(x, y))"
   ]
  },
  {
   "cell_type": "code",
   "execution_count": 7,
   "id": "ed17d439-7b3e-44ca-ae02-e39cc0705909",
   "metadata": {},
   "outputs": [
    {
     "name": "stdout",
     "output_type": "stream",
     "text": [
      "[[ 5 12]\n",
      " [21 32]]\n",
      "[[ 5 12]\n",
      " [21 32]]\n"
     ]
    }
   ],
   "source": [
    "# Elementwise product:\n",
    "#  * is elementwise multiplication, not matrix multiplication!\n",
    "print(x * y)\n",
    "print(np.multiply(x, y))"
   ]
  },
  {
   "cell_type": "code",
   "execution_count": 8,
   "id": "8224cdb7-80ec-433b-a6ef-8593d477e8c0",
   "metadata": {},
   "outputs": [
    {
     "name": "stdout",
     "output_type": "stream",
     "text": [
      "[[1.         1.41421356]\n",
      " [1.73205081 2.        ]]\n"
     ]
    }
   ],
   "source": [
    "# Elementwise square root:\n",
    "print(np.sqrt(x))"
   ]
  },
  {
   "cell_type": "code",
   "execution_count": 9,
   "id": "6638b22f-b917-44ea-8f25-2e31c0972412",
   "metadata": {},
   "outputs": [
    {
     "name": "stdout",
     "output_type": "stream",
     "text": [
      "[[0.2        0.33333333]\n",
      " [0.42857143 0.5       ]]\n",
      "[[0.2        0.33333333]\n",
      " [0.42857143 0.5       ]]\n"
     ]
    }
   ],
   "source": [
    "# Elementwise division:\n",
    "print(x / y)\n",
    "print(np.divide(x, y))"
   ]
  },
  {
   "cell_type": "markdown",
   "id": "a2831722-7766-4253-a13a-2ae7b18e8178",
   "metadata": {
    "tags": []
   },
   "source": [
    "<!-- BEGIN QUESTION -->\n",
    "\n",
    "# Exercise 1\n",
    "Given two vectors $v_1$ and $v_2$, calculate $v_3$ where\n",
    "$$\n",
    "v_3 = 12(v_1 - 2v_2)\n",
    "$$"
   ]
  },
  {
   "cell_type": "code",
   "execution_count": 10,
   "id": "c8124b53-591a-4f4b-b2a3-8e7df71e76d5",
   "metadata": {
    "tags": []
   },
   "outputs": [
    {
     "name": "stdout",
     "output_type": "stream",
     "text": [
      "[-120   12   48   12]\n"
     ]
    }
   ],
   "source": [
    "# define the two vectors\n",
    "v1 = np.array([2,3,4,7])\n",
    "v2 = np.array([6,1,0,3])\n",
    "\n",
    "# calculate v3\n",
    "v3 = 12 * (v1 - 2 * v2) # SOL \n",
    "print(v3)"
   ]
  },
  {
   "cell_type": "markdown",
   "id": "33af34a7-1f27-4c55-b899-3af2758e2e64",
   "metadata": {},
   "source": [
    "<!-- END QUESTION -->\n",
    "\n",
    "We use the dot function to compute inner products of vectors, to multiply a vector by a matrix, and to multiply matrices. dot is available both as a function in the numpy module and as an instance method of array objects:"
   ]
  },
  {
   "cell_type": "code",
   "execution_count": 11,
   "id": "7a12e4ed-23d3-4775-8846-4b7fed4deeec",
   "metadata": {},
   "outputs": [
    {
     "name": "stdout",
     "output_type": "stream",
     "text": [
      "219\n",
      "219\n",
      "219\n",
      "[[19 22]\n",
      " [43 50]]\n",
      "[[19 22]\n",
      " [43 50]]\n",
      "[[19 22]\n",
      " [43 50]]\n"
     ]
    },
    {
     "data": {
      "text/plain": [
       "matrix([[19, 22],\n",
       "        [43, 50]])"
      ]
     },
     "execution_count": 11,
     "metadata": {},
     "output_type": "execute_result"
    }
   ],
   "source": [
    "x = np.array([[1,2],[3,4]])\n",
    "y = np.array([[5,6],[7,8]])\n",
    "\n",
    "v = np.array([9,10])\n",
    "w = np.array([11, 12])\n",
    "\n",
    "# Inner product of vectors.\n",
    "print(v.dot(w))\n",
    "print(np.dot(v, w))\n",
    "print(v @ w)\n",
    "\n",
    "# Matrix multiplication.\n",
    "print(x.dot(y))\n",
    "print(np.dot(x, y))\n",
    "print(x @ y)\n",
    "\n",
    "x = np.matrix(x)\n",
    "y = np.matrix(y)\n",
    "x*y"
   ]
  },
  {
   "cell_type": "markdown",
   "id": "7dc3e0ba-f90e-42ea-8c1a-594d9d4cf004",
   "metadata": {},
   "source": [
    "We can cast the array objects to the type `matrix`. This changes the behavior of the standard arithmetic operators +, -, * to use matrix algebra.\n",
    "Make sure the dimensions of the two matrices are compatible. You can use the `np.transpose()` function or the `T` method of NumPy vectors and matrices."
   ]
  },
  {
   "cell_type": "code",
   "execution_count": 12,
   "id": "b8797f0e-5eac-4635-a116-3cfa4a5d931c",
   "metadata": {},
   "outputs": [
    {
     "name": "stdout",
     "output_type": "stream",
     "text": [
      "[[219]]\n",
      "[[19 22]\n",
      " [43 50]]\n",
      "[[29]\n",
      " [67]]\n"
     ]
    }
   ],
   "source": [
    "# Create two row vectors\n",
    "v = np.matrix(v)\n",
    "w = np.matrix(w)\n",
    "\n",
    "# Create two matrices\n",
    "x = np.matrix(x)\n",
    "y = np.matrix(y)\n",
    "\n",
    "# Inner product of vectors.\n",
    "print(v * w.T)\n",
    "\n",
    "# Matrix multiplication.\n",
    "print(x * y)\n",
    "\n",
    "# Matrix Vector multiplication\n",
    "print(x * v.T)"
   ]
  },
  {
   "cell_type": "markdown",
   "id": "38bf4b31-4f40-40e8-baa1-b46a762d9aea",
   "metadata": {},
   "source": [
    "## NumPy Standard Data Types\n",
    "\n",
    "NumPy arrays contain values of a single type, so it is important to have detailed knowledge of those types and their limitations.\n",
    "Because NumPy is built in C, the types will be familiar to users of C, Fortran, and other related languages.\n",
    "\n",
    "The standard NumPy data types are listed in the following table.\n",
    "Note that when constructing an array, they can be specified using a string:\n",
    "\n",
    "```python\n",
    "np.zeros(10, dtype='int16')\n",
    "```\n",
    "\n",
    "Or using the associated NumPy object:\n",
    "\n",
    "```python\n",
    "np.zeros(10, dtype=np.int16)\n",
    "```\n",
    "\n",
    "| Data type\t    | Description |\n",
    "|---------------|-------------|\n",
    "| ``bool_``     | Boolean (True or False) stored as a byte |\n",
    "| ``int_``      | Default integer type (same as C ``long``; normally either ``int64`` or ``int32``)| \n",
    "| ``intc``      | Identical to C ``int`` (normally ``int32`` or ``int64``)| \n",
    "| ``intp``      | Integer used for indexing (same as C ``ssize_t``; normally either ``int32`` or ``int64``)| \n",
    "| ``int8``      | Byte (-128 to 127)| \n",
    "| ``int16``     | Integer (-32768 to 32767)|\n",
    "| ``int32``     | Integer (-2147483648 to 2147483647)|\n",
    "| ``int64``     | Integer (-9223372036854775808 to 9223372036854775807)| \n",
    "| ``uint8``     | Unsigned integer (0 to 255)| \n",
    "| ``uint16``    | Unsigned integer (0 to 65535)| \n",
    "| ``uint32``    | Unsigned integer (0 to 4294967295)| \n",
    "| ``uint64``    | Unsigned integer (0 to 18446744073709551615)| \n",
    "| ``float_``    | Shorthand for ``float64``.| \n",
    "| ``float16``   | Half precision float: sign bit, 5 bits exponent, 10 bits mantissa| \n",
    "| ``float32``   | Single precision float: sign bit, 8 bits exponent, 23 bits mantissa| \n",
    "| ``float64``   | Double precision float: sign bit, 11 bits exponent, 52 bits mantissa| \n",
    "| ``complex_``  | Shorthand for ``complex128``.| \n",
    "| ``complex64`` | Complex number, represented by two 32-bit floats| \n",
    "| ``complex128``| Complex number, represented by two 64-bit floats| \n",
    "\n",
    "More advanced type specification is possible, such as specifying big or little endian numbers; for more information, refer to the [NumPy documentation](http://numpy.org/).\n",
    "NumPy also supports compound data types."
   ]
  },
  {
   "cell_type": "markdown",
   "id": "e19c22a2-0886-49d9-8cf5-39e12ae5a1e9",
   "metadata": {},
   "source": [
    "## Using array-generating functions\n",
    "\n",
    "For larger arrays it is inpractical to initialize the data manually, using explicit python lists. Instead we can use one of the many functions in numpy that generate arrays of different forms. Some of the more common are:\n"
   ]
  },
  {
   "cell_type": "code",
   "execution_count": 13,
   "id": "0d555d22-ace5-41d6-b173-e71c497537b4",
   "metadata": {},
   "outputs": [
    {
     "data": {
      "text/plain": [
       "array([[0., 0., 0., 0.],\n",
       "       [0., 0., 0., 0.],\n",
       "       [0., 0., 0., 0.]])"
      ]
     },
     "execution_count": 13,
     "metadata": {},
     "output_type": "execute_result"
    }
   ],
   "source": [
    "# We use these when the elements of the \n",
    "# arrays are originally unknown but their size is known.\n",
    "\n",
    "np.zeros((3,4))"
   ]
  },
  {
   "cell_type": "code",
   "execution_count": 14,
   "id": "3a30afd7-64e6-47a4-8c90-b638256a06cf",
   "metadata": {},
   "outputs": [
    {
     "data": {
      "text/plain": [
       "array([[1, 1, 1],\n",
       "       [1, 1, 1]])"
      ]
     },
     "execution_count": 14,
     "metadata": {},
     "output_type": "execute_result"
    }
   ],
   "source": [
    "np.ones((2,3), dtype = np.int_)"
   ]
  },
  {
   "cell_type": "code",
   "execution_count": 15,
   "id": "f8c309ce-a462-4890-98dc-57e3d812a40f",
   "metadata": {},
   "outputs": [
    {
     "data": {
      "text/plain": [
       "array([[1.39059287e-316, 0.00000000e+000, 0.00000000e+000],\n",
       "       [0.00000000e+000, 0.00000000e+000, 0.00000000e+000]])"
      ]
     },
     "execution_count": 15,
     "metadata": {},
     "output_type": "execute_result"
    }
   ],
   "source": [
    "np.empty( (2,3) )   "
   ]
  },
  {
   "cell_type": "code",
   "execution_count": 16,
   "id": "4fbfdedb-f5ce-4bea-952c-8e35aafeb13c",
   "metadata": {},
   "outputs": [
    {
     "data": {
      "text/plain": [
       "array([[3.14, 3.14, 3.14, 3.14, 3.14],\n",
       "       [3.14, 3.14, 3.14, 3.14, 3.14],\n",
       "       [3.14, 3.14, 3.14, 3.14, 3.14]])"
      ]
     },
     "execution_count": 16,
     "metadata": {},
     "output_type": "execute_result"
    }
   ],
   "source": [
    "# Create a 3x5 array filled with 3.14\n",
    "np.full((3, 5), 3.14)"
   ]
  },
  {
   "cell_type": "code",
   "execution_count": 17,
   "id": "444c10bd-48b6-459a-a003-ad18132c4c82",
   "metadata": {},
   "outputs": [
    {
     "data": {
      "text/plain": [
       "array([[1., 0., 0.],\n",
       "       [0., 1., 0.],\n",
       "       [0., 0., 1.]])"
      ]
     },
     "execution_count": 17,
     "metadata": {},
     "output_type": "execute_result"
    }
   ],
   "source": [
    "# Create a 3x3 Identity Matrix\n",
    "np.eye(3)"
   ]
  },
  {
   "cell_type": "markdown",
   "id": "9f3c1539-7072-4ded-9414-7e0512eb48ab",
   "metadata": {
    "tags": []
   },
   "source": [
    "<!-- BEGIN QUESTION -->\n",
    "\n",
    "# Exercise 2\n",
    "Given vector $v$, calculate the average of its elements using dot product."
   ]
  },
  {
   "cell_type": "code",
   "execution_count": 18,
   "id": "61d7ed22-5e40-4440-ab6d-a5a31d2d9171",
   "metadata": {
    "tags": []
   },
   "outputs": [
    {
     "data": {
      "text/plain": [
       "2.6"
      ]
     },
     "execution_count": 18,
     "metadata": {},
     "output_type": "execute_result"
    }
   ],
   "source": [
    "# define vector v\n",
    "v = np.array([ 3, 5, -3, 7, 1 ])\n",
    "\n",
    "# vector of ones\n",
    "ones_vector = np.ones_like(v) # SOL\n",
    "\n",
    "# calculating the average using dot product\n",
    "average = np.dot(v, ones_vector) / v.shape[0] # SOL \n",
    "average"
   ]
  },
  {
   "cell_type": "markdown",
   "id": "9e2e06f8-2075-4183-86e0-7a6f7113d2a0",
   "metadata": {},
   "source": [
    "import numpy as np\n",
    "import matplotlib.pyplot as plt\n",
    "\n",
    "# define the vector. this is a row vector\n",
    "u = np.array([3, -4])\n",
    "u = np.matrix(u)\n",
    "u = u.T\n",
    "print(u.shape)\n",
    "\n",
    "# define the 2x2 matrix\n",
    "A = np.array([ # SOL \n",
    "    [1, -3],\n",
    "    [2, -2]\n",
    "])\n",
    "\n",
    "# output vector is Au (convert u to column)\n",
    "v = A @ u\n",
    "\n",
    "\n",
    "# plotting\n",
    "plt.plot([0,u[0]],[0,u[1]],label='u')\n",
    "plt.plot([0,v[0]],[0,v[1]],label='Au')\n",
    "plt.grid()\n",
    "plt.axis((-2, 12, -6, 12))\n",
    "plt.legend()\n",
    "plt.show()<!-- END QUESTION -->\n",
    "\n",
    "<!-- BEGIN QUESTION -->\n",
    "\n",
    "# Exercise 3\n",
    "Matrices can *transform* the vectors that they are multiplied with.\n",
    "define vector $ u = [ 3, -4 ]^T $ and matrix $ A = \\begin{bmatrix}1&-3\\\\2&-2 \\end{bmatrix}$ then calculate and plot the result of\n",
    "$ Au$ which we'll call $v$.\n",
    "\n",
    "Make sure that $u$ is a $2\\times1$ column vector."
   ]
  },
  {
   "cell_type": "code",
   "execution_count": 19,
   "id": "ed1a15a0-9908-4ad8-87f5-936150dd0c54",
   "metadata": {},
   "outputs": [
    {
     "name": "stdout",
     "output_type": "stream",
     "text": [
      "(2, 1)\n",
      "[[ 3]\n",
      " [-4]]\n",
      "<class 'numpy.matrix'>\n",
      "[[15]\n",
      " [14]]\n"
     ]
    },
    {
     "name": "stderr",
     "output_type": "stream",
     "text": [
      "/home/hamed/anaconda3/lib/python3.9/site-packages/numpy/core/shape_base.py:65: VisibleDeprecationWarning: Creating an ndarray from ragged nested sequences (which is a list-or-tuple of lists-or-tuples-or ndarrays with different lengths or shapes) is deprecated. If you meant to do this, you must specify 'dtype=object' when creating the ndarray.\n",
      "  ary = asanyarray(ary)\n"
     ]
    },
    {
     "data": {
      "image/png": "[encoded data removed]",
      "text/plain": [
       "<Figure size 640x480 with 1 Axes>"
      ]
     },
     "metadata": {},
     "output_type": "display_data"
    }
   ],
   "source": [
    "import numpy as np\n",
    "import matplotlib.pyplot as plt\n",
    "\n",
    "# define the vector. this is a row vector\n",
    "u = np.array([3, -4])\n",
    "u = np.matrix(u)\n",
    "u = u.T\n",
    "print(u.shape)\n",
    "print(u)\n",
    "print(type(u))\n",
    "\n",
    "# define the 2x2 matrix\n",
    "A = np.array([ # SOL \n",
    "    [1, -3],\n",
    "    [2, -2]\n",
    "])\n",
    "A = np.matrix(A)\n",
    "\n",
    "# output vector is Au (convert u to column)\n",
    "v = A * u\n",
    "print(v)\n",
    "\n",
    "# plotting\n",
    "plt.plot([0,u[0]],[0,u[1]],label='u')\n",
    "plt.plot([0,v[0]],[0,v[1]],label='Au')\n",
    "plt.grid()\n",
    "plt.axis((-2, 12, -6, 12))\n",
    "plt.legend()\n",
    "plt.show()"
   ]
  },
  {
   "cell_type": "code",
   "execution_count": 20,
   "id": "03c5fdc2-045b-4dab-a8e0-fcd8183f65be",
   "metadata": {
    "tags": []
   },
   "outputs": [
    {
     "name": "stdout",
     "output_type": "stream",
     "text": [
      "[[ 3]\n",
      " [-4]]\n",
      "(2, 1)\n",
      "<class 'numpy.ndarray'>\n",
      "[[15]\n",
      " [14]]\n"
     ]
    },
    {
     "data": {
      "image/png": "[encoded data removed]",
      "text/plain": [
       "<Figure size 640x480 with 1 Axes>"
      ]
     },
     "metadata": {},
     "output_type": "display_data"
    }
   ],
   "source": [
    "# define the vector. this is a row vector\n",
    "u = np.array([3, -4])[:, None] # SOL\n",
    "print(u)\n",
    "print(u.shape)\n",
    "print(type(u))\n",
    "\n",
    "# define the 2x2 matrix\n",
    "A = np.array([ # SOL \n",
    "    [1, -3],\n",
    "    [2, -2]\n",
    "])\n",
    "\n",
    "# output vector is Au (convert u to column)\n",
    "v = A @ u\n",
    "print(v)\n",
    "\n",
    "# plotting\n",
    "plt.plot([0,u[0]],[0,u[1]],label='u')\n",
    "plt.plot([0,v[0]],[0,v[1]],label='Au')\n",
    "plt.grid()\n",
    "plt.axis((-2, 12, -6, 12))\n",
    "plt.legend()\n",
    "plt.show()"
   ]
  },
  {
   "cell_type": "markdown",
   "id": "50ccf2f1-8eef-42de-b80c-7709700d488c",
   "metadata": {},
   "source": [
    "<!-- END QUESTION -->\n",
    "\n",
    "### Array Slicing: Accessing Subarrays\n",
    "\n",
    "Just as we can use square brackets to access individual array elements, we can also use them to access subarrays with the *slice* notation, marked by the colon (``:``) character.\n",
    "The NumPy slicing syntax follows that of the standard Python list; to access a slice of an array ``x``, use this:\n",
    "``` python\n",
    "x[start:stop:step]\n",
    "```\n",
    "If any of these are unspecified, they default to the values ``start=0``, ``stop=``*``size of dimension``*, ``step=1``.\n",
    "We'll take a look at accessing sub-arrays in one dimension and in multiple dimensions."
   ]
  },
  {
   "cell_type": "code",
   "execution_count": 21,
   "id": "51894df1-56fb-408d-b2bc-10c9de153068",
   "metadata": {},
   "outputs": [
    {
     "name": "stdout",
     "output_type": "stream",
     "text": [
      "Initial matrix: \n",
      "[[ 6 34 63 95 26 97 16 80 59 61 44 93]\n",
      " [89 21  9 61 63 26 69 40 89 42 68 67]\n",
      " [10 55  0 70 90  7  6 73  4 73 42 86]\n",
      " [ 3 39 94 97 54 12 86 68 68 76 80  8]\n",
      " [43 53 20  0 49 41 58 85 46 86 71  6]\n",
      " [81 66 61 83 38 87 82 37 26 89  7 38]\n",
      " [61 55 48 62 85 55 15 99 66 30 26 60]\n",
      " [71 42 83 51 24 58 53 45 73 88 21 44]\n",
      " [44 69 24 47 88 96 58 57 72 38 98 94]\n",
      " [42 16 20  8 12 87 91 65 86  6 89 53]]\n"
     ]
    }
   ],
   "source": [
    "M = np.random.randint(100, size=(10, 12))\n",
    "print(\"Initial matrix: \")\n",
    "print(M)"
   ]
  },
  {
   "cell_type": "code",
   "execution_count": 22,
   "id": "c0348dad-83dc-4c3d-9ca2-babbb0858774",
   "metadata": {},
   "outputs": [
    {
     "data": {
      "text/plain": [
       "array([89, 21,  9, 61, 63, 26, 69, 40, 89, 42, 68, 67])"
      ]
     },
     "execution_count": 22,
     "metadata": {},
     "output_type": "execute_result"
    }
   ],
   "source": [
    "M[1,:] # second row"
   ]
  },
  {
   "cell_type": "code",
   "execution_count": 23,
   "id": "0cc78627-3b02-46a8-b4b0-2e573bc49203",
   "metadata": {},
   "outputs": [
    {
     "data": {
      "text/plain": [
       "array([34, 21, 55, 39, 53, 66, 55, 42, 69, 16])"
      ]
     },
     "execution_count": 23,
     "metadata": {},
     "output_type": "execute_result"
    }
   ],
   "source": [
    "M[:,1] # second column"
   ]
  },
  {
   "cell_type": "code",
   "execution_count": 24,
   "id": "c98e3440-579a-47ad-832c-469daadb0480",
   "metadata": {},
   "outputs": [
    {
     "data": {
      "text/plain": [
       "array([[ 6, 34, 63, 95, 26, 97, 16, 80, 59, 61, 44, 93],\n",
       "       [ 0,  0,  0,  0,  0,  0,  0,  0,  0,  0,  0,  0],\n",
       "       [10, 55,  0, 70, 90,  7,  6, 73,  4, 73, 42, 86],\n",
       "       [ 3, 39, 94, 97, 54, 12, 86, 68, 68, 76, 80,  8],\n",
       "       [43, 53, 20,  0, 49, 41, 58, 85, 46, 86, 71,  6],\n",
       "       [81, 66, 61, 83, 38, 87, 82, 37, 26, 89,  7, 38],\n",
       "       [61, 55, 48, 62, 85, 55, 15, 99, 66, 30, 26, 60],\n",
       "       [71, 42, 83, 51, 24, 58, 53, 45, 73, 88, 21, 44],\n",
       "       [44, 69, 24, 47, 88, 96, 58, 57, 72, 38, 98, 94],\n",
       "       [42, 16, 20,  8, 12, 87, 91, 65, 86,  6, 89, 53]])"
      ]
     },
     "execution_count": 24,
     "metadata": {},
     "output_type": "execute_result"
    }
   ],
   "source": [
    "# assignment can also work for rows and columns. This is really powerful and fast!\n",
    "M[1,:] = 0\n",
    "M"
   ]
  },
  {
   "cell_type": "code",
   "execution_count": 25,
   "id": "38089819-2d26-463a-a693-ddbc32f05e81",
   "metadata": {},
   "outputs": [
    {
     "data": {
      "text/plain": [
       "array([[ 6, 34, -1, 95, 26, 97, 16, 80, 59, 61, 44, 93],\n",
       "       [ 0,  0, -1,  0,  0,  0,  0,  0,  0,  0,  0,  0],\n",
       "       [10, 55, -1, 70, 90,  7,  6, 73,  4, 73, 42, 86],\n",
       "       [ 3, 39, -1, 97, 54, 12, 86, 68, 68, 76, 80,  8],\n",
       "       [43, 53, -1,  0, 49, 41, 58, 85, 46, 86, 71,  6],\n",
       "       [81, 66, -1, 83, 38, 87, 82, 37, 26, 89,  7, 38],\n",
       "       [61, 55, -1, 62, 85, 55, 15, 99, 66, 30, 26, 60],\n",
       "       [71, 42, -1, 51, 24, 58, 53, 45, 73, 88, 21, 44],\n",
       "       [44, 69, -1, 47, 88, 96, 58, 57, 72, 38, 98, 94],\n",
       "       [42, 16, -1,  8, 12, 87, 91, 65, 86,  6, 89, 53]])"
      ]
     },
     "execution_count": 25,
     "metadata": {},
     "output_type": "execute_result"
    }
   ],
   "source": [
    "M[:,2] = -1\n",
    "M"
   ]
  },
  {
   "cell_type": "code",
   "execution_count": 26,
   "id": "91064d4e-fb6b-4d09-be4f-045a21fb5cdb",
   "metadata": {},
   "outputs": [
    {
     "data": {
      "text/plain": [
       "array([[ 6, 34, -1, 95, 26, 97, 16, 80, 59, 61, 44, 93],\n",
       "       [10, 55, -1, 70, 90,  7,  6, 73,  4, 73, 42, 86],\n",
       "       [43, 53, -1,  0, 49, 41, 58, 85, 46, 86, 71,  6],\n",
       "       [61, 55, -1, 62, 85, 55, 15, 99, 66, 30, 26, 60],\n",
       "       [44, 69, -1, 47, 88, 96, 58, 57, 72, 38, 98, 94]])"
      ]
     },
     "execution_count": 26,
     "metadata": {},
     "output_type": "execute_result"
    }
   ],
   "source": [
    "M[::2] # step is 2, lower and upper defaults to the beginning and end of the array"
   ]
  },
  {
   "cell_type": "code",
   "execution_count": 27,
   "id": "03588c85-e62c-4031-88d9-8a17733aab90",
   "metadata": {},
   "outputs": [
    {
     "data": {
      "text/plain": [
       "array([[ 6, 34, -1, 95, 26, 97, 16, 80, 59, 61, 44, 93],\n",
       "       [ 0,  0, -1,  0,  0,  0,  0,  0,  0,  0,  0,  0],\n",
       "       [10, 55, -1, 70, 90,  7,  6, 73,  4, 73, 42, 86]])"
      ]
     },
     "execution_count": 27,
     "metadata": {},
     "output_type": "execute_result"
    }
   ],
   "source": [
    "M[:3] # first three rows"
   ]
  },
  {
   "cell_type": "code",
   "execution_count": 28,
   "id": "4bc9e2e9-a187-4796-bc84-bc5eb0998a1b",
   "metadata": {},
   "outputs": [
    {
     "data": {
      "text/plain": [
       "array([[ 3, 39, -1, 97, 54, 12, 86, 68, 68, 76, 80,  8],\n",
       "       [43, 53, -1,  0, 49, 41, 58, 85, 46, 86, 71,  6],\n",
       "       [81, 66, -1, 83, 38, 87, 82, 37, 26, 89,  7, 38],\n",
       "       [61, 55, -1, 62, 85, 55, 15, 99, 66, 30, 26, 60],\n",
       "       [71, 42, -1, 51, 24, 58, 53, 45, 73, 88, 21, 44],\n",
       "       [44, 69, -1, 47, 88, 96, 58, 57, 72, 38, 98, 94],\n",
       "       [42, 16, -1,  8, 12, 87, 91, 65, 86,  6, 89, 53]])"
      ]
     },
     "execution_count": 28,
     "metadata": {},
     "output_type": "execute_result"
    }
   ],
   "source": [
    "M[3:] # rows from row 3 to the end"
   ]
  },
  {
   "cell_type": "code",
   "execution_count": 29,
   "id": "3a1f8c11-b58c-4b05-b53b-0d8a6b7e2145",
   "metadata": {},
   "outputs": [
    {
     "data": {
      "text/plain": [
       "array([[ 0, -1,  0],\n",
       "       [55, -1, 70],\n",
       "       [39, -1, 97]])"
      ]
     },
     "execution_count": 29,
     "metadata": {},
     "output_type": "execute_result"
    }
   ],
   "source": [
    "# slice a block from the original array\n",
    "M[1:4, 1:4]"
   ]
  },
  {
   "cell_type": "code",
   "execution_count": 30,
   "id": "adeb2a34-46f2-42c7-b045-3eb8303b31be",
   "metadata": {},
   "outputs": [
    {
     "data": {
      "text/plain": [
       "array([[ 6, -1, 26, 16, 59, 44],\n",
       "       [10, -1, 90,  6,  4, 42],\n",
       "       [43, -1, 49, 58, 46, 71],\n",
       "       [61, -1, 85, 15, 66, 26],\n",
       "       [44, -1, 88, 58, 72, 98]])"
      ]
     },
     "execution_count": 30,
     "metadata": {},
     "output_type": "execute_result"
    }
   ],
   "source": [
    "# slice with different strides\n",
    "M[::2, ::2]"
   ]
  },
  {
   "cell_type": "markdown",
   "id": "86ab424f-b88a-4aa6-b8c7-9205fb4e3bb7",
   "metadata": {},
   "source": [
    "# Implementing Gaussian Elimination\n",
    "In this exercise we'll try to implement gaussian elimination.\n",
    "First we create a couple of functions for elementry row operations.\n",
    "\n",
    "Each of the elementary row operations is the result of matrix multiplication by an elementary matrix (on the left).\n",
    "\n",
    "# Exercise 4\n",
    "## Row Swap\n",
    "For swapping row $i$ with row $j$ in a $m\\times n$ matrix $A$, we multiply $A$ by an $m\\times m$ matrix $E$ where $E$ is equal to the identity matrix $I_m$ except $E_{ii}=E_{jj}=0,$ and $E_{ij}=E_{ji}=1$. (Equivalently, we can interchange $i$-th row and $j$-th row of the identity matrix $I$ to get $E$.)\n",
    "For example, if $A$ is a $3\\times 3$ matrix and we would like to swap row $1$ with row $3$, then $E$ would be equal to:\n",
    "  \n",
    "  $$\n",
    "   \\begin{bmatrix} 0 & 0 & 1 \\\\ 0 & 1 & 0\\\\ 1 & 0 & 0 \\end{bmatrix}\n",
    "  $$\n",
    "  \n",
    "**Exercise4.1:** Now try to define the `row_swap` function which take a matrix $A$ and two indices $i$ and $j$ as its inputs and returns a matrix which is equal to $A$ with its $i$-th row and $j$-th row swapped."
   ]
  },
  {
   "cell_type": "code",
   "execution_count": 2,
   "id": "ea20f748-ecdd-42e5-8f67-2ba973eae03a",
   "metadata": {},
   "outputs": [],
   "source": [
    "def row_swap(A, i, j):\n",
    "    \"Swap row i and j in matrix A.\"\n",
    "    m = A.shape[0] # SOL \n",
    "    E = np.eye(m)\n",
    "    # Fill out certain entries of E with proper numbers\n",
    "    # For example:\n",
    "    # E[i, i] = ?\n",
    "    # ...\n",
    "    \n",
    "    # SOL # SOL # SOL \n",
    "    E[i, i] = 0\n",
    "    E[j, j] = 0\n",
    "    E[i, j] = 1\n",
    "    E[j, i] = 1\n",
    "    \n",
    "    return np.around(E @ A, precision)"
   ]
  },
  {
   "cell_type": "code",
   "execution_count": 32,
   "id": "4e80b593-8774-4e67-acc1-474cb293bb2b",
   "metadata": {},
   "outputs": [
    {
     "name": "stdout",
     "output_type": "stream",
     "text": [
      "Before row exchange:\n",
      "[[ 1  2  3]\n",
      " [ 4 -5  6]\n",
      " [ 7 -8  9]]\n",
      "After row exchange:\n",
      "[[ 1.  2.  3.]\n",
      " [ 7. -8.  9.]\n",
      " [ 4. -5.  6.]]\n"
     ]
    }
   ],
   "source": [
    "A = np.array([[1,2,3],[4,-5,6],[7,-8,9]])\n",
    "print(\"Before row exchange:\")\n",
    "print(A)\n",
    "print(\"After row exchange:\")\n",
    "print(row_swap(A, 1, 2))"
   ]
  },
  {
   "cell_type": "markdown",
   "id": "3219330a-3ee7-4532-85b2-ffca9bb9cf42",
   "metadata": {},
   "source": [
    "## Row Sum\n",
    " For summing $k \\times$ row $i$ with row $j$ in a $m\\times n$ matrix $A$, we multiply $A$ by the matrix $E$ where $E$  is equal to the identity matrix $I_m$ except $E_{ji}=k$. For example, if $A$ is 3 by 5 and we want to add -2 times $3$ to row $1$. then $E$ would be equal to:\n",
    "  \n",
    "   $$\n",
    "   \\begin{bmatrix} 1 & 0 & -2 \\\\ 0 & 1 & 0\\\\ 0 & 0 & 1 \\end{bmatrix}\n",
    "  $$\n",
    "\n",
    "**Exercise4.2:** Now try to define the `row_sum` function which takes matrix $A$, scalar $k$ and indices $i, j$ as its inputs and returns the matrix resulting from adding $k$ times row $i$  to row $j$  in the matrix $A$."
   ]
  },
  {
   "cell_type": "code",
   "execution_count": 3,
   "id": "166e3923-ae07-4918-84be-d7f6d22c0197",
   "metadata": {},
   "outputs": [],
   "source": [
    "# A simple exception for when the indices given to row_sum function are equal\n",
    "class GERowSwapSameIndexException(Exception):\n",
    "    def __init__(self):\n",
    "        super().__init__(\"Error: indices given to the function must be different.\")\n",
    "        \n",
    "def row_sum(A,k,i,j):\n",
    "    \"Add k times row i to row j in matrix A.\"\n",
    "    if (i == j):\n",
    "        raise GERowSwapSameIndexException\n",
    "        \n",
    "    m = A.shape[0]  # SOL \n",
    "    E = np.eye(m)   # SOL\n",
    "    # Fill out certain entries of E with proper numbers\n",
    "    # For example:\n",
    "    # E[i, i] = ?\n",
    "    #E[j, :] += k * E[i, :]\n",
    "    # ... # SOL \n",
    "    \n",
    "    # SOL# SOL# SOL# SOL\n",
    "    E[j, i] = k \n",
    "    return np.around(E @ A, precision)"
   ]
  },
  {
   "cell_type": "code",
   "execution_count": 34,
   "id": "fd648b1c-8b9d-46a0-b3f5-28e0e84de21e",
   "metadata": {},
   "outputs": [
    {
     "name": "stdout",
     "output_type": "stream",
     "text": [
      "Before row sum:\n",
      "[[ 1  2  3]\n",
      " [ 4 -5  6]\n",
      " [ 7 -8  9]]\n",
      "After row sum:\n",
      "[[  1.   2.   3.]\n",
      " [  4.  -5.   6.]\n",
      " [ 15. -18.  21.]]\n"
     ]
    }
   ],
   "source": [
    "A = np.array([[1,2,3],[4,-5,6],[7,-8,9]])\n",
    "print(\"Before row sum:\")\n",
    "print(A)\n",
    "print(\"After row sum:\")\n",
    "print(row_sum(A, 2, 1, 2))"
   ]
  },
  {
   "cell_type": "markdown",
   "id": "c7a87ad1-d157-4dc0-8784-585ac28f5811",
   "metadata": {},
   "source": [
    "## Row Scale\n",
    "For summing $k \\times$ row $i$ with row $j$ in a $m\\times n$ matrix $A$, we multiply $A$ by the matrix $E$ where $E$  is equal to the identity matrix $I_m$ except $E_{ii}=k$. For example, if $A$ is 4 by 3 and we want to multiply row 3 by -4 then $E$ would be equal to:\n",
    "  \n",
    "   $$\n",
    "   \\begin{bmatrix} 1 & 0 & 0 & 0\\\\ 0 & 1 & 0 &0\\\\ 0 & 0 & -4 &0 \\\\\n",
    "       0&  0 &0 &1 \\end{bmatrix}\n",
    "  $$\n",
    "**Exercise4.3:** The implementation of a function that scales a row of a matrix must be trivial by now. It take a matrix $A$, a scalar $k$ and an index $i$ and returns the matrix that results from  $k$ times row $i$ in the matrix $A$."
   ]
  },
  {
   "cell_type": "code",
   "execution_count": 4,
   "id": "d9e17637-036c-4941-9618-f57f4b6f19d8",
   "metadata": {},
   "outputs": [],
   "source": [
    "def row_scale(A,k,i):\n",
    "    \"Multiply row i by k in matrix A\"\n",
    "    m = A.shape[0] # SOL \n",
    "    E = np.eye(m)  # SOL \n",
    "    # Fill out certain entries of E with proper numbers\n",
    "    # For example:\n",
    "    # E[i, i] = ?\n",
    "   # SOL# SOL# SOL# SOL# SOL\n",
    "    E[i, i] = k\n",
    "    return np.around(E @ A, precision)"
   ]
  },
  {
   "cell_type": "code",
   "execution_count": 36,
   "id": "a52010f8-d84c-4c1a-9016-5861df774d28",
   "metadata": {},
   "outputs": [
    {
     "name": "stdout",
     "output_type": "stream",
     "text": [
      "Before row scale:\n",
      "[[ 1  2  3]\n",
      " [ 4 -5  6]\n",
      " [ 7 -8  9]]\n",
      "After row scale:\n",
      "[[  1.   2.   3.]\n",
      " [-12.  15. -18.]\n",
      " [  7.  -8.   9.]]\n"
     ]
    }
   ],
   "source": [
    "A = np.array([[1,2,3],[4,-5,6],[7,-8,9]])\n",
    "print(\"Before row scale:\")\n",
    "print(A)\n",
    "print(\"After row scale:\")\n",
    "print(row_scale(A, -3, 1))"
   ]
  },
  {
   "cell_type": "markdown",
   "id": "898dd8af-e31f-4ff7-afcf-bd9734411843",
   "metadata": {},
   "source": [
    "## Gaussian Elimination\n",
    "Having defined the elementary row operations, now let's implement gaussian elimination.\n",
    "\n",
    "**Exercise4.4:** Define the function `eliminate` which takes a matrix $A$ and a vector $b$ and applies gaussian elimination on them and then returns the resulting matrix and vector."
   ]
  },
  {
   "cell_type": "code",
   "execution_count": 37,
   "id": "3ede16bd-ddc8-45f6-b1f6-1e6fb599660d",
   "metadata": {},
   "outputs": [],
   "source": [
    "# A simple exception for when the indices given to row_sum function are equal\n",
    "class GEEliminationErr(Exception):\n",
    "    def __init__(self, msg):\n",
    "        super().__init__(msg)\n",
    "        \n",
    "def is_zero(x, epsilon=1e-10):    \n",
    "    return abs(x) < epsilon\n",
    "\n",
    "def gaussian_elimination(A):\n",
    "    number_rows = A.shape[0]\n",
    "    try:\n",
    "        for i in range(number_rows):\n",
    "            pivot = A[i,i]\n",
    "            \n",
    "            if is_zero(pivot):\n",
    "                swap_index = (np.where(A[i+1:,i] != 0)[0][0]) + i + 1\n",
    "                A[[i, swap_index], :] = A[[swap_index, i], :]\n",
    "                pivot = A[i,i]\n",
    "                \n",
    "            # Eliminate elements below the pivot\n",
    "            loopRange = range(i+1, number_rows)\n",
    "            for j in loopRange:\n",
    "                multiplier = A[j,i] / pivot \n",
    "                print(type(multiplier))\n",
    "                print(multiplier, j, i)\n",
    "                print(A[j, :] - multiplier * A[i, :])\n",
    "\n",
    "                A[j, :] = A[j, :] - multiplier * A[i, :]\n",
    "                print(\"Row operation: \")\n",
    "                print(A)\n",
    "    \n",
    "        if A[number_rows-1, number_rows-1] == 0:\n",
    "            raise GEEliminationErr(\"Matrix is not full rank. There are no unique solution.\")\n",
    "    \n",
    "    except IndexError as exc:\n",
    "        raise GEEliminationErr(\"Pivot not found. There are no unique solutions.\") from exc\n",
    "    return A"
   ]
  },
  {
   "cell_type": "code",
   "execution_count": 38,
   "id": "5b3f9dd1-a03f-485f-adc9-0d15ce91c66e",
   "metadata": {},
   "outputs": [
    {
     "name": "stdout",
     "output_type": "stream",
     "text": [
      "<class 'numpy.float64'>\n",
      "<class 'numpy.float64'>\n",
      "1.6666666666666667 1 0\n",
      "[0.         4.66666667 1.33333333]\n",
      "Row operation: \n",
      "[[3.         2.         1.        ]\n",
      " [0.         4.66666667 1.33333333]\n",
      " [1.         1.         5.        ]]\n",
      "<class 'numpy.float64'>\n",
      "0.3333333333333333 2 0\n",
      "[0.         0.33333333 4.66666667]\n",
      "Row operation: \n",
      "[[3.         2.         1.        ]\n",
      " [0.         4.66666667 1.33333333]\n",
      " [0.         0.33333333 4.66666667]]\n",
      "<class 'numpy.float64'>\n",
      "0.07142857142857145 2 1\n",
      "[ 0.00000000e+00 -5.55111512e-17  4.57142857e+00]\n",
      "Row operation: \n",
      "[[ 3.00000000e+00  2.00000000e+00  1.00000000e+00]\n",
      " [ 0.00000000e+00  4.66666667e+00  1.33333333e+00]\n",
      " [ 0.00000000e+00 -5.55111512e-17  4.57142857e+00]]\n"
     ]
    },
    {
     "data": {
      "text/plain": [
       "array([[ 3.00000000e+00,  2.00000000e+00,  1.00000000e+00],\n",
       "       [ 0.00000000e+00,  4.66666667e+00,  1.33333333e+00],\n",
       "       [ 0.00000000e+00, -5.55111512e-17,  4.57142857e+00]])"
      ]
     },
     "execution_count": 38,
     "metadata": {},
     "output_type": "execute_result"
    }
   ],
   "source": [
    "test = np.array([[3, 2, 1.0], [5, 8, 3], [1, 1, 5]])\n",
    "print(type(test[0][0]))\n",
    "gaussian_elimination(test)"
   ]
  },
  {
   "cell_type": "code",
   "execution_count": null,
   "id": "80e250ad-2bd8-4d21-b2dc-1d27b83e4ae1",
   "metadata": {},
   "outputs": [],
   "source": []
  },
  {
   "cell_type": "code",
   "execution_count": null,
   "id": "a6a82a23-618a-4555-9d51-f70dedcbf869",
   "metadata": {},
   "outputs": [],
   "source": []
  },
  {
   "cell_type": "code",
   "execution_count": null,
   "id": "a818a60a-cebd-407c-a6bd-5f61bb8f84e3",
   "metadata": {},
   "outputs": [],
   "source": []
  },
  {
   "cell_type": "code",
   "execution_count": 33,
   "id": "b85230c0-e95e-42bb-b9fc-9d98e636fe68",
   "metadata": {},
   "outputs": [],
   "source": [
    "# A simple exception for when the indices given to row_sum function are equal\n",
    "class GEEliminationErr(Exception):\n",
    "    def __init__(self, msg):\n",
    "        super().__init__(msg)\n",
    "        \n",
    "def is_zero(x, epsilon=1e-10):    \n",
    "    return abs(x) < epsilon\n",
    "\n",
    "def gaussian_elimination(A):\n",
    "    number_rows = A.shape[0]\n",
    "    try:\n",
    "        for i in range(number_rows):\n",
    "            pivot = A[i, i] #SOL ...\n",
    "            \n",
    "            if is_zero(pivot):\n",
    "                swap_index = (np.where(A[i+1:,i] != 0)[0][0]) + i + 1\n",
    "                A = row_swap(A, i, swap_index) # SOL \n",
    "                \n",
    "            # Eliminate elements below the pivot\n",
    "            loopRange = number_rows - 1 # - i # SOL \n",
    "            for j in range(loopRange):\n",
    "                multiplier = A[j+1, i] / A[i, i] # SOL  \n",
    "                A[j+1, :] = A[j+1, :] - multiplier * A[i, :]\n",
    "                print(\"Row operation: \")\n",
    "                print(A)\n",
    "    \n",
    "        if A[number_rows-1, number_rows-1] == 0:\n",
    "            raise GEEliminationErr(\"Matrix is not full rank. There are no unique solution.\")\n",
    "    \n",
    "    except IndexError as exc:\n",
    "        raise GEEliminationErr(\"Pivot not found. There are no unique solutions.\") from exc\n",
    "    return A"
   ]
  },
  {
   "cell_type": "code",
   "execution_count": 34,
   "id": "5b52b1a5-af19-49e1-8b7f-cbb76b000763",
   "metadata": {},
   "outputs": [],
   "source": [
    "# A simple exception for when the indices given to row_sum function are equal\n",
    "class GEEliminationErr(Exception):\n",
    "    def __init__(self, msg):\n",
    "        super().__init__(msg)\n",
    "        \n",
    "def is_zero(x, epsilon=1e-10):    \n",
    "    return abs(x) < epsilon\n",
    "\n",
    "def gaussian_elimination(A):\n",
    "    number_rows = A.shape[0]\n",
    "    try:\n",
    "        for i in range(number_rows):\n",
    "            pivot = A[i, i] #SOL ...\n",
    "            \n",
    "            if is_zero(pivot):\n",
    "                swap_index = (np.where(A[i+1:,i] != 0)[0][0]) + i + 1\n",
    "                A = row_swap(A, i, swap_index) # SOL \n",
    "                \n",
    "            # Eliminate elements below the pivot\n",
    "            loopRange = number_rows - 1 - i # SOL \n",
    "            for j in range(loopRange):\n",
    "                multiplier = A[i+j+1, i] / A[i, i] # SOL  \n",
    "                A = row_sum(A, -multiplier, i, i+j+1) # SOL \n",
    "                print(\"Row operation: \")\n",
    "                print(A)\n",
    "    \n",
    "        if A[number_rows-1, number_rows-1] == 0:\n",
    "            raise GEEliminationErr(\"Matrix is not full rank. There are no unique solution.\")\n",
    "    \n",
    "    except IndexError as exc:\n",
    "        raise GEEliminationErr(\"Pivot not found. There are no unique solutions.\") from exc\n",
    "    return A"
   ]
  },
  {
   "cell_type": "code",
   "execution_count": 36,
   "id": "c71bfdb6-6911-456f-9deb-69213b0b43b2",
   "metadata": {},
   "outputs": [
    {
     "name": "stdout",
     "output_type": "stream",
     "text": [
      "Row operation: \n",
      "[[5. 8. 3.]\n",
      " [0. 2. 1.]\n",
      " [1. 1. 5.]]\n",
      "Row operation: \n",
      "[[ 5.   8.   3. ]\n",
      " [ 0.   2.   1. ]\n",
      " [ 0.  -0.6  4.4]]\n",
      "Row operation: \n",
      "[[5.  8.  3. ]\n",
      " [0.  2.  1. ]\n",
      " [0.  0.  4.7]]\n"
     ]
    },
    {
     "data": {
      "text/plain": [
       "array([[5. , 8. , 3. ],\n",
       "       [0. , 2. , 1. ],\n",
       "       [0. , 0. , 4.7]])"
      ]
     },
     "execution_count": 36,
     "metadata": {},
     "output_type": "execute_result"
    }
   ],
   "source": [
    "test = np.array([[0, 2, 1], [5, 8, 3], [1, 1, 5]])\n",
    "gaussian_elimination(test)"
   ]
  },
  {
   "cell_type": "code",
   "execution_count": 40,
   "id": "7a97adaf-de98-4c53-9caf-3b8488e32e2b",
   "metadata": {},
   "outputs": [
    {
     "data": {
      "text/plain": [
       "(array([0]),)"
      ]
     },
     "execution_count": 40,
     "metadata": {},
     "output_type": "execute_result"
    }
   ],
   "source": [
    "temp = np.array([\n",
    "    [0, 0, 0],\n",
    "    [1, 0, 0],\n",
    "    [0, 0, 0]\n",
    "])\n",
    "np.where(temp[1:, 0] != 0)"
   ]
  },
  {
   "cell_type": "markdown",
   "id": "68a73448-aec5-4d49-8cd2-509a7b89d40d",
   "metadata": {},
   "source": [
    "**Exercise4.5:** Next, implement the `back_substitution` function. This function solves a linear system of equations that has been transformed into reduced row-echelon form. It takes a matrix $A$ and a vector $b$ in their rref forms and returns the solution of $Ax=b$."
   ]
  },
  {
   "cell_type": "code",
   "execution_count": 22,
   "id": "478af110-1e5f-47e1-ad28-7a98a88968e6",
   "metadata": {},
   "outputs": [],
   "source": [
    "def back_substitution(A,b):\n",
    "    n = A.shape[0]\n",
    "    x = np.zeros(n)\n",
    "    for i in range(n-1, -1, -1):\n",
    "        tmp = b[i]\n",
    "        for j in range(n-1, i, -1):\n",
    "            tmp -= x[j]*A[i, j] # SOl \n",
    "        x[i] = tmp/A[i, i] # SOL \n",
    "    return np.around(np.matrix(x), precision)"
   ]
  },
  {
   "cell_type": "code",
   "execution_count": 23,
   "id": "794e0937-2369-4d1e-916c-7a0cafff3fba",
   "metadata": {},
   "outputs": [
    {
     "name": "stdout",
     "output_type": "stream",
     "text": [
      "Original Matrix\n",
      "[[1. 2. 3.]\n",
      " [1. 2. 5.]\n",
      " [3. 9. 7.]]\n",
      "Augmented Matrix\n",
      "[[1. 2. 3. 2.]\n",
      " [1. 2. 5. 3.]\n",
      " [3. 9. 7. 1.]]\n",
      "<class 'numpy.float64'>\n",
      "1.0 1 0\n",
      "[[0. 0. 2. 1.]]\n",
      "Row operation: \n",
      "[[1. 2. 3. 2.]\n",
      " [0. 0. 2. 1.]\n",
      " [3. 9. 7. 1.]]\n",
      "<class 'numpy.float64'>\n",
      "3.0 2 0\n",
      "[[ 0.  3. -2. -5.]]\n",
      "Row operation: \n",
      "[[ 1.  2.  3.  2.]\n",
      " [ 0.  0.  2.  1.]\n",
      " [ 0.  3. -2. -5.]]\n",
      "<class 'numpy.float64'>\n",
      "0.0 2 1\n",
      "[[0. 0. 2. 1.]]\n",
      "Row operation: \n",
      "[[ 1.  2.  3.  2.]\n",
      " [ 0.  3. -2. -5.]\n",
      " [ 0.  0.  2.  1.]]\n",
      "rref a:  [[ 1.  2.  3.]\n",
      " [ 0.  3. -2.]\n",
      " [ 0.  0.  2.]]\n",
      "rred b [[ 2.]\n",
      " [-5.]\n",
      " [ 1.]]\n",
      "Final solution of system of equations is \n",
      "[[ 3.17]\n",
      " [-1.33]\n",
      " [ 0.5 ]]\n"
     ]
    }
   ],
   "source": [
    "# define an example matrix \n",
    "A = np.matrix([[1,2,3], [1,2,5], [3,9,7]], dtype = float)\n",
    "print(\"Original Matrix\")\n",
    "print(A)\n",
    "\n",
    "# define vector b\n",
    "b = np.mat([2,3,1], dtype = float)\n",
    "b = b.reshape(3,1)\n",
    "\n",
    "Aug = np.concatenate((A, b), axis=1)\n",
    "print(\"Augmented Matrix\")\n",
    "print(Aug)\n",
    "\n",
    "# Applying the elimination\n",
    "ref_Aug = gaussian_elimination(Aug)\n",
    "# Extract everything BUT the last column of Aug\n",
    "ref_A = ref_Aug[:, :-1].copy()\n",
    "# Extract the last column of Aug\n",
    "ref_b = ref_Aug[:, -1].copy()\n",
    "print('rref a: ', ref_A)\n",
    "print('rred b', ref_b)\n",
    "z = back_substitution(ref_A, ref_b)\n",
    "print(\"Final solution of system of equations is \")\n",
    "print(z.T)"
   ]
  },
  {
   "cell_type": "markdown",
   "id": "b7a2458c-3e93-4bf3-bdf0-e96d18822b4c",
   "metadata": {},
   "source": [
    "\n",
    "# Polynomial Interpolation\n",
    "Polynomial interpolation is a procedure for modeling a set of precise data points\n",
    "using a polynomial function, 𝑝(𝑥), that fits the data exactly (passes through all\n",
    "provided data points). The data points are normally obtained from a complicated\n",
    "mathematical model, 𝑓(𝑥), of an engineering or scientific system derived from\n",
    "physical principles. Once an interpolation polynomial is computed, it can be used to\n",
    "replace the complicated mathematical model for the purpose of analysis and design.\n",
    "For instance, the interpolating polynomial can be used to estimate the value of the\n",
    "function at a new point 𝑥′, as 𝑓(𝑥′) ≅ 𝑝(𝑥\n",
    "′\n",
    "). The solution for the coefficients of the\n",
    "interpolation polynomial 𝑝(𝑥) can be determined by solving an associated system\n",
    "of linear equations, or can be computed using formulas.\n",
    "$$ p(x) = a_n x^n + a_{n-1} x^{n-1} + \\cdots + a_2 x^2 + a_1 x + a_0 $$\n",
    "$$ p(x_i) = y_i \\qquad\\mbox{for all } i \\in \\left\\{ 0, 1, \\dots, n\\right\\}.$$\n",
    "\n",
    "$$P\\vec{a} = \\vec{y} \\rightarrow \\begin{bmatrix}\n",
    "x_0^n  & x_0^{n-1} & x_0^{n-2} & \\ldots & x_0 & 1 \\\\\n",
    "x_1^n  & x_1^{n-1} & x_1^{n-2} & \\ldots & x_1 & 1 \\\\\n",
    "\\vdots & \\vdots    & \\vdots    &        & \\vdots & \\vdots \\\\\n",
    "x_n^n  & x_n^{n-1} & x_n^{n-2} & \\ldots & x_n & 1\n",
    "\\end{bmatrix}\n",
    "\\begin{bmatrix} a_n \\\\ a_{n-1} \\\\ \\vdots \\\\ a_0 \\end{bmatrix}  =\n",
    "\\begin{bmatrix} y_0 \\\\ y_1 \\\\ \\vdots \\\\ y_n \\end{bmatrix}.$$\n",
    "\n",
    "\n",
    "We have to solve this system for ak to construct the interpolant p(x). The matrix on the left is commonly referred to as a Vandermonde matrix. \n",
    "\n",
    "Note that for interpolating an $n$-degree polynomial function, we only need $n+1$ different percise data points from that polynomial in order to solve the above linear equation. \n",
    "\n",
    "# Explanatory Question 1: \n",
    "**Question**: why we need $n+1$ differnet data points from the original polynomial function? why do they need to be \"different\"?"
   ]
  },
  {
   "cell_type": "raw",
   "id": "1d1f2aa7-fbdd-4cb1-a63c-f65e943f6678",
   "metadata": {},
   "source": [
    "WRITE YOU ANSWER HERE"
   ]
  },
  {
   "cell_type": "markdown",
   "id": "811508b3-bf5f-409a-ae8f-22071dbca121",
   "metadata": {},
   "source": [
    "# Exercise 5\n",
    "Find a degree 3 polynomial that best fits the points:\n",
    "$$(1, 3),\\; (2, -2),\\; (3, -5),\\; (4, 0)$$\n",
    "\n",
    "(use the `gaussian_elimination` function that you implemented above)"
   ]
  },
  {
   "cell_type": "code",
   "execution_count": 24,
   "id": "5cdf3938-dfae-4916-b16b-f377c3892190",
   "metadata": {},
   "outputs": [
    {
     "name": "stdout",
     "output_type": "stream",
     "text": [
      "Augmented Matrix\n",
      "[[ 1  1  1  1  3]\n",
      " [ 8  4  2  1 -2]\n",
      " [27  9  3  1 -5]\n",
      " [64 16  4  1  0]]\n",
      "<class 'numpy.float64'>\n",
      "8.0 1 0\n",
      "[  0.  -4.  -6.  -7. -26.]\n",
      "Row operation: \n",
      "[[  1   1   1   1   3]\n",
      " [  0  -4  -6  -7 -26]\n",
      " [ 27   9   3   1  -5]\n",
      " [ 64  16   4   1   0]]\n",
      "<class 'numpy.float64'>\n",
      "27.0 2 0\n",
      "[  0. -18. -24. -26. -86.]\n",
      "Row operation: \n",
      "[[  1   1   1   1   3]\n",
      " [  0  -4  -6  -7 -26]\n",
      " [  0 -18 -24 -26 -86]\n",
      " [ 64  16   4   1   0]]\n",
      "<class 'numpy.float64'>\n",
      "64.0 3 0\n",
      "[   0.  -48.  -60.  -63. -192.]\n",
      "Row operation: \n",
      "[[   1    1    1    1    3]\n",
      " [   0   -4   -6   -7  -26]\n",
      " [   0  -18  -24  -26  -86]\n",
      " [   0  -48  -60  -63 -192]]\n",
      "<class 'numpy.float64'>\n",
      "4.5 2 1\n",
      "[ 0.   0.   3.   5.5 31. ]\n",
      "Row operation: \n",
      "[[   1    1    1    1    3]\n",
      " [   0   -4   -6   -7  -26]\n",
      " [   0    0    3    5   31]\n",
      " [   0  -48  -60  -63 -192]]\n",
      "<class 'numpy.float64'>\n",
      "12.0 3 1\n",
      "[  0.   0.  12.  21. 120.]\n",
      "Row operation: \n",
      "[[  1   1   1   1   3]\n",
      " [  0  -4  -6  -7 -26]\n",
      " [  0   0   3   5  31]\n",
      " [  0   0  12  21 120]]\n",
      "<class 'numpy.float64'>\n",
      "4.0 3 2\n",
      "[ 0.  0.  0.  1. -4.]\n",
      "Row operation: \n",
      "[[  1   1   1   1   3]\n",
      " [  0  -4  -6  -7 -26]\n",
      " [  0   0   3   5  31]\n",
      " [  0   0   0   1  -4]]\n",
      "Final solution of system of equations is \n",
      "[[  2.]\n",
      " [-12.]\n",
      " [ 17.]\n",
      " [ -4.]]\n"
     ]
    }
   ],
   "source": [
    "P = np.array([ # SOL \n",
    "    [1**3, 1**2, 1**1, 1**0],\n",
    "    [2**3, 2**2, 2**1, 2**0],\n",
    "    [3**3, 3**2, 3**1, 3**0],\n",
    "    [4**3, 4**2, 4**1, 4**0],  \n",
    "])\n",
    "y = np.array([3, -2, -5, 0])[:, None] # SOL \n",
    "\n",
    "Aug = np.concatenate((P, y), axis=1) # SOL \n",
    "print(\"Augmented Matrix\")\n",
    "print(Aug)\n",
    "\n",
    "# Applying the elimination\n",
    "ref_Aug = gaussian_elimination(Aug) # SOL \n",
    "# Extract everything BUT the last column of Aug\n",
    "ref_P = ref_Aug[:, :-1].copy() # SOL \n",
    "# Extract the last column of Aug\n",
    "ref_y = ref_Aug[:, -1].copy() # SOL \n",
    "\n",
    "z = back_substitution(ref_P, ref_y) # SOL \n",
    "print(\"Final solution of system of equations is \")\n",
    "print(z.T)"
   ]
  },
  {
   "cell_type": "code",
   "execution_count": 44,
   "id": "651e1b81-740c-4314-b846-ffa0ed7fc11c",
   "metadata": {},
   "outputs": [
    {
     "name": "stdout",
     "output_type": "stream",
     "text": [
      "# This is a polynomial of order 3.\n"
     ]
    },
    {
     "data": {
      "image/png": "[encoded data removed]",
      "text/plain": [
       "<Figure size 640x480 with 1 Axes>"
      ]
     },
     "metadata": {},
     "output_type": "display_data"
    }
   ],
   "source": [
    "# Plotting the polynomial\n",
    "def polynomial_coefficients(xs, coeffs):\n",
    "    order = len(coeffs)\n",
    "    print(f'# This is a polynomial of order {order - 1}.')\n",
    "    ys = np.zeros(len(xs))  # Initialise an array of zeros of the required length.\n",
    "    for i in range(order):\n",
    "        ys += coeffs[i] * xs ** i\n",
    "    return ys\n",
    "\n",
    "\n",
    "xs = np.linspace(-1, 4, 100)  # Change this range according to your needs. Start, stop, number of steps.\n",
    "coeffs = z.flatten().tolist()[::-1]\n",
    "\n",
    "plt.plot(xs, polynomial_coefficients(xs, coeffs))\n",
    "plt.axhline(y=0, color='r')  # Show xs axis\n",
    "plt.axvline(x=0, color='r')  # Show y axis\n",
    "points = [(1, 3), (2, -2), (3, -5), (4, 0)]\n",
    "for p in points:\n",
    "    plt.plot(p[0], p[1], 'o', color='black');\n",
    "plt.plot(1, 3)\n",
    "plt.show()"
   ]
  },
  {
   "cell_type": "markdown",
   "id": "6b554745-8bc7-42ba-afe6-fdb48aeaae59",
   "metadata": {},
   "source": [
    "# Hill Cipher Encryption"
   ]
  },
  {
   "cell_type": "markdown",
   "id": "8667f8ca-813a-4802-b37c-ea347d58482e",
   "metadata": {},
   "source": [
    "Before we dive into the details of Hill Cipher, let’s first take a look at its history and how it came to be used in cryptography.\n",
    "\n",
    "### Hill Cipher History\n",
    "[Cryptography](https://intellipaat.com/blog/what-is-cryptography/), the study, and practice of secure communication through unique methods and techniques prevents third parties or organizations from accessing sensitive information. In modern cryptography, concepts like confidentiality, data integrity, authentication, etc. play a crucial role.\n",
    "\n",
    "The Hill Cipher method was invented and developed in 1929 by Lester S. Hill, a renowned American mathematician. Hill Cipher makes use of [Modular Inverses](http://en.wikipedia.org/wiki/Modular_multiplicative_inverse), Matrix Multiplication, Determinant of matrices, [Matrix Adjugates](http://en.wikipedia.org/wiki/Adjugate_matrix)(for finding inverse) and [Modulo Arithmetic](http://en.wikipedia.org/wiki/Modular_arithmetic).\n",
    "\n",
    "### What is Hill Cipher\n",
    "The Hill cipher is a polygraphic substitution cipher built on concepts from Linear Algebra. Polygraphic substitution is a uniform substitution where a block of letters is substituted by a word, character, number, etc.\n",
    "\n",
    "Hill cipher uses a key matrix to encrypt and decrypt messages. in this exercise we use a $2 \\times 2$ key matrix. (we will explain how this key can be used to encrypt/decrypt later)\n",
    "\n",
    "before diving into examples. lets define a substitution scheme for mapping messages (strings) into numerical vectors. (we can't do linear algebraic operations on literal characters!). to keep it simple, lets assume the alphabet only consists of lowercase english letters and the whitespace $\\text{\" \"}$.\n",
    "we use the following map to convert characters into numbers: \n",
    "\n",
    "|             |     |     |     |     |     |     |     |     |     |     |     |     |     |     |     |     |     |     |     |     |     |     |     |     |     |     |     |\n",
    "| ----------- |-----|-----|-----|-----|-----|-----|-----|-----|-----|-----|-----|-----|-----|-----|-----|-----|-----|-----|-----|-----|-----|-----|-----|-----|-----|-----|-----|\n",
    "| Letter      |  a  |  b  |  c  |  d  |  e  |  f  |  g  |  h  |  i  |  j  |  k  |  l  |  m  |  n  |  o  |  p  |  q  |  r  |  s  |  t  |  u  |  v  |  w  |  x  |  y  |  z  | $\\text{\" \"}$ |\n",
    "| Number      |  0  |  1  |  2  |  3  |  4  |  5  |  6  |  7  |  8  |  9  |  10 |  11 |  12 |  13 |  14 |  15 |  16 |  17 |  18 |  19 |  20 |  21 |  22 |  23 |  24 |  25 |  26 |\n",
    "\n",
    "using this scheme, string 'la' corrseponds to a $2 \\times 1$ vector\n",
    "$\\begin{pmatrix}\n",
    "11 \\\\\n",
    "0\n",
    "\\end{pmatrix}\n",
    "$. Note that the alphabet size is 27. "
   ]
  },
  {
   "cell_type": "code",
   "execution_count": 45,
   "id": "4216af85-237a-427e-a10a-9f2392eb57d1",
   "metadata": {},
   "outputs": [],
   "source": [
    "# build two dictionaries for converting character to number and vice versa: \n",
    "M = 27 # alphabet size\n",
    "K = 2 # size of key matrix (key size), in the following exercises we'll only work with key size of 2\n",
    "\n",
    "UPPER_CASE = 65\n",
    "LOWER_CASE = 97\n",
    "\n",
    "c2num = {}\n",
    "num2c = {}\n",
    "if M == 27: \n",
    "    for i in range(M-1): \n",
    "        c2num[chr(LOWER_CASE+i)] = i\n",
    "        num2c[i] = chr(LOWER_CASE+i)\n",
    "    c2num[' '] = 26\n",
    "    num2c[26] = ' '\n",
    "elif M == 26:\n",
    "    for i in range(M): \n",
    "        c2num[chr(LOWER_CASE+i)] = i\n",
    "        num2c[i] = chr(LOWER_CASE+i)\n",
    "        \n",
    "# util functions: \n",
    "def text_to_list(text: str) -> List[str]: \n",
    "    \"\"\"\n",
    "    splits the input string into chunks of size K, \n",
    "    if len(text) % K is not zero, \n",
    "    add a whitespace (' ') to the end of string. (assuming ' ' is in dict)\n",
    "    \"\"\"\n",
    "    text_list = []\n",
    "    for i in range(0, len(text), K):\n",
    "        text_list.append(text[i:i+K])\n",
    "\n",
    "    if len(text_list[-1]) == 1 and ' ' in c2num:\n",
    "        text_list[-1] += ' '\n",
    "\n",
    "    return text_list\n",
    "\n",
    "def text2vec(text: str) -> np.ndarray:\n",
    "    \"\"\"\n",
    "    returns np.array of the given string based on the\n",
    "    character to number dictionary\n",
    "    (each number is mapped to a character)\n",
    "    \"\"\"\n",
    "    text_vec  = np.zeros(len(text))\n",
    "    for idx, curr_c in enumerate(text):\n",
    "        text_vec[idx] = c2num[curr_c]\n",
    "    return text_vec\n",
    "\n",
    "def vec2text(vec: np.ndarray) -> str:\n",
    "    \"\"\"\n",
    "    returns string of the given np.array based on the \n",
    "    number to character dictionary\n",
    "    (each character is mapped to a number)\n",
    "    \"\"\"\n",
    "    res = ''\n",
    "    for idx in range(vec.shape[0]): \n",
    "        res += num2c[vec[idx]]\n",
    "    return res\n"
   ]
  },
  {
   "cell_type": "code",
   "execution_count": 46,
   "id": "ae510107-206a-44dd-9696-a6fc535b5ced",
   "metadata": {},
   "outputs": [
    {
     "name": "stdout",
     "output_type": "stream",
     "text": [
      "{'a': 0, 'b': 1, 'c': 2, 'd': 3, 'e': 4, 'f': 5, 'g': 6, 'h': 7, 'i': 8, 'j': 9, 'k': 10, 'l': 11, 'm': 12, 'n': 13, 'o': 14, 'p': 15, 'q': 16, 'r': 17, 's': 18, 't': 19, 'u': 20, 'v': 21, 'w': 22, 'x': 23, 'y': 24, 'z': 25, ' ': 26} \n",
      " {0: 'a', 1: 'b', 2: 'c', 3: 'd', 4: 'e', 5: 'f', 6: 'g', 7: 'h', 8: 'i', 9: 'j', 10: 'k', 11: 'l', 12: 'm', 13: 'n', 14: 'o', 15: 'p', 16: 'q', 17: 'r', 18: 's', 19: 't', 20: 'u', 21: 'v', 22: 'w', 23: 'x', 24: 'y', 25: 'z', 26: ' '}\n",
      "[ 5. 20. 12. 26. 11.  0.]\n",
      "fum la\n"
     ]
    }
   ],
   "source": [
    "# TESTING\n",
    "print(c2num, '\\n', num2c)\n",
    "\n",
    "fum_la = 'fum la'\n",
    "print(text2vec(fum_la))\n",
    "print(vec2text(text2vec(fum_la)))"
   ]
  },
  {
   "cell_type": "markdown",
   "id": "fccce400-923d-4b74-80d9-f410fe3e9ae7",
   "metadata": {},
   "source": [
    "## Encryption\n",
    "Assuming we have a 2 by 2 key matrix (key size=2), to encrypt a message using the Hill Cipher we must first split the plaintext (input string) into chunks of 2 and turn them into 2 by 1 column vector. \n",
    "\n",
    "For example to encrypt the message \"fum la\", we need to split it into chunks of 2, and write these as column vectors, that is: \n",
    "\n",
    "$$\n",
    "\\text{\"fum la\"} \\;\\;\\;\n",
    "\\underrightarrow{(1)}\n",
    "\\begin{pmatrix} \\text{f} \\\\ \\text{u} \\end{pmatrix}\n",
    "\\begin{pmatrix} \\text{m} \\\\ \\text{\" \"} \\end{pmatrix}\n",
    "\\begin{pmatrix} \\text{l} \\\\ \\text{a} \\end{pmatrix}\n",
    "\\underrightarrow{(2)}\n",
    "\\begin{pmatrix} 5 \\\\ 20 \\end{pmatrix}\n",
    "\\begin{pmatrix} 12 \\\\ 26 \\end{pmatrix}\n",
    "\\begin{pmatrix} 11 \\\\ 0 \\end{pmatrix}\n",
    "$$\n",
    "- (1): split string into chunks of 2\n",
    "- (2): convert characters to numbers using the map explained above\n",
    "\n",
    "Encrypting with the Hill cipher is built on the following operation:\n",
    "$$\n",
    "\\text{E}(K, P) =( \\;\\; K_{2 \\times 2} \\times P_{2 \\times 1} \\;\\; ) \\;\\; \\text{mod 27}\n",
    "$$\n",
    "where $K$ is the key matrix, $P$ is the plain text (input string that we want to encrypt) in the vector form and $E$ is the encrypted text in vector form. the mod 27 above means that after calculating the 2 by 1 result of $K \\times P$, remainder of 27 is returned.  (why 27? because the alphabet we chose has 27 characters and each character is mapped to and integer betweern 0-26)\n",
    "\n",
    "Let's go step by step:\n",
    "1. Set a 2 by 2 key matrix $K$. in our example we use \n",
    "$K = \\begin{pmatrix}\n",
    "7 & 8 \\\\\n",
    "19 & 3\n",
    "\\end{pmatrix}$\n",
    "2. convert the plain text (\"fum la\") into vector form, since our key matrix is 2 by 2, the vector needs to be 2 by 1 for matrix multiplication to be possible. in our case, the plain text is 6 letters long so we need to split into cunks of 2 and convert them into numerical vector: \n",
    "$$\n",
    "\\text{\"fum la\"} \\;\\;\\;\n",
    "\\underrightarrow{(1)}\n",
    "\\begin{pmatrix} \\text{f} \\\\ \\text{u} \\end{pmatrix}\n",
    "\\begin{pmatrix} \\text{m} \\\\ \\text{\" \"} \\end{pmatrix}\n",
    "\\begin{pmatrix} \\text{l} \\\\ \\text{a} \\end{pmatrix}\n",
    "\\underrightarrow{(2)}\n",
    "\\begin{pmatrix} 5 \\\\ 20 \\end{pmatrix}\n",
    "\\begin{pmatrix} 12 \\\\ 26 \\end{pmatrix}\n",
    "\\begin{pmatrix} 11 \\\\ 0 \\end{pmatrix}\n",
    "$$\n",
    "3. now we can multiply each 2 by 1 plain text vector with the key matrix, take the modulo (remainder) of the resulting 2 by 1 vectors by 27 (since alphabet size is 27), and concatenate the results to get \"guwjxu\", the final ciphertext.\n",
    "$$E(K, P) = (K \\times P) mod 27$$\n",
    "\n",
    "\n",
    "$$\n",
    "K\n",
    "\\times \n",
    "\\begin{bmatrix} \\text{f} \\\\ \\text{u} \\end{bmatrix}\n",
    " = \n",
    "\\begin{bmatrix}\n",
    "7 & 8 \\\\\n",
    "19 & 3\n",
    "\\end{bmatrix}\n",
    "\\times \n",
    "\\begin{bmatrix} 5 \\\\ 20 \\end{bmatrix} = \n",
    "\\begin{bmatrix} 195 \\\\ 155 \\end{bmatrix} \\text{mod 27} = \n",
    "\\begin{bmatrix} 6 \\\\ 20 \\end{bmatrix} = \n",
    "\\begin{bmatrix} \\text{g} \\\\ \\text{u} \\end{bmatrix}\n",
    "$$\n",
    "$$\n",
    "K\n",
    "\\times \n",
    "\\begin{bmatrix} \\text{m} \\\\ \\text{\" \"} \\end{bmatrix}\n",
    " = \n",
    "\\begin{bmatrix}\n",
    "7 & 8 \\\\\n",
    "19 & 3\n",
    "\\end{bmatrix}\n",
    "\\times \n",
    "\\begin{bmatrix} 12 \\\\ 26 \\end{bmatrix} = \n",
    "\\begin{bmatrix} 292 \\\\ 306 \\end{bmatrix} \\text{mod 27} = \n",
    "\\begin{bmatrix} 22 \\\\ 9 \\end{bmatrix} = \n",
    "\\begin{bmatrix} \\text{w} \\\\ \\text{j} \\end{bmatrix}\n",
    "$$\n",
    "$$\n",
    "K\n",
    "\\times \n",
    "\\begin{bmatrix} \\text{l} \\\\ \\text{a} \\end{bmatrix}\n",
    " = \n",
    "\\begin{bmatrix}\n",
    "7 & 8 \\\\\n",
    "19 & 3\n",
    "\\end{bmatrix}\n",
    "\\times \n",
    "\\begin{bmatrix} 11 \\\\ 0 \\end{bmatrix} = \n",
    "\\begin{bmatrix} 77 \\\\ 209 \\end{bmatrix} \\text{mod 27} = \n",
    "\\begin{bmatrix} 23 \\\\ 20 \\end{bmatrix} = \n",
    "\\begin{bmatrix} \\text{x} \\\\ \\text{u} \\end{bmatrix}\n",
    "$$\n",
    "4. concatenating the encrypted vectors: \n",
    "$$\n",
    "\\begin{bmatrix} \\text{g} \\\\ \\text{u} \\end{bmatrix}\n",
    "\\begin{bmatrix} \\text{w} \\\\ \\text{j} \\end{bmatrix}\n",
    "\\begin{bmatrix} \\text{x} \\\\ \\text{u} \\end{bmatrix}\n",
    "= \n",
    "\\text{guwjxu}\n",
    "$$\n",
    "in other words: \n",
    "$$\n",
    "E(\\begin{bmatrix}\n",
    "7 & 8 \\\\\n",
    "19 & 3\n",
    "\\end{bmatrix},\n",
    "\\text{fum la}) = \n",
    "\\text{guwjxu} \\; \\; \\; (mod 27)\n",
    "$$"
   ]
  },
  {
   "cell_type": "markdown",
   "id": "42d6de17-90fd-497d-928e-358060af75a7",
   "metadata": {},
   "source": [
    "## Decryption\n",
    "Decrypting with the Hill cipher is built on the following operation:\n",
    "$$\n",
    "\\text{D}(K, C) = ( \\;\\; K^{-1}_{2 \\times 2} \\times \\;\\; C_{2 \\times 1}) \\;\\; \\text{mod 27}\n",
    "$$\n",
    "where $C$ is the ciphertext (encrypted string using hill cipher) in vector form, $D$ is the decrypted text (original plaintext) and $K^{-1}$ is not the usual inverse, it is the Matrix Modular Inverse.\n",
    "\n",
    "#### Finding Modular Inverse of key matrix: \n",
    "we don't go into detail on how this inversion works for matrices bigger than 2 by 2 and stick to our 2 by 2 key matrix. For finding the modular inverse of our key, we must keep the result between 0-26 using modulo 27.\n",
    "\n",
    "In general, to find the inverse of a 2 by 2 matrix, we have: \n",
    "$$\n",
    "A^{-1} = \\text{determinant}^{-1} \\times \\text{adjugate}(A)\n",
    "$$\n",
    "assuming $A = \\begin{pmatrix} a&b \\\\ c&d\\end{pmatrix}$, $\\text{adjugate}(A) = \\begin{pmatrix} d&-b \\\\ -c&a\\end{pmatrix}$, and $\\text{determinant}(A) = ad - bc$ , in normal linear algebra we had: \n",
    "$$\n",
    "A^{-1} = \\frac{1}{ad - bc} \\times \\begin{pmatrix} d&-b \\\\ -c&a\\end{pmatrix}\n",
    "$$\n",
    "\n",
    "but since we are working with Modular arithmetic, $det^{-1} \\neq \\frac{1}{det}$, in order to find $det^{-1}$, we have to calculate [Modular multiplicative inverse](https://en.wikipedia.org/wiki/Modular_multiplicative_inverse) of determinant.\n",
    "\n",
    "in this exercise we don't go into details and use the built-in function `mod_inverse()` from `sympy` to find the modular multiplicative inverse of determinant. \n",
    "\n",
    "So in summary: \n",
    "$$\n",
    "(\\text{Modular Inverse}) \\;A^{-1} = \\text{modular multiplicative inverse of determinant} \\times \\begin{pmatrix} d&-b \\\\ -c&a\\end{pmatrix} \\;\\;\\;  (\\text{mod 27})\n",
    "$$\n",
    "\n",
    "### Steps of Decryption\n",
    "let's decrypt the ciphertext we got from the previous example step by step: \n",
    "\n",
    "(recall that ciphertext (encrypted message) = \"guwjxu\" and key matrix = $\\begin{bmatrix}\n",
    "7 & 8 \\\\\n",
    "19 & 3\n",
    "\\end{bmatrix}$)\n",
    "\n",
    "1. Find the Modular Inverse of the key matrix ($K^{-1}$).\n",
    "$$\n",
    "det(K) = 7*3 - 19*8 = -131\n",
    "$$\n",
    "\n",
    "$$\n",
    "K^{-1} = \\text{mod inv}(-131) \\times \n",
    "\\begin{bmatrix}\n",
    "3 & -8 \\\\\n",
    "-19 & 7\n",
    "\\end{bmatrix}\n",
    " = \n",
    " 7 \\times \n",
    " \\begin{bmatrix}\n",
    "3 & -8 \\\\\n",
    "-19 & 7\n",
    "\\end{bmatrix} \n",
    "= \n",
    "\\begin{bmatrix}\n",
    "21 & -56 \\\\\n",
    "-133 & 49\n",
    "\\end{bmatrix} \n",
    "\\;\\; \\text{mod 27} = \n",
    "\\begin{bmatrix}\n",
    "21 & 25 \\\\\n",
    "2 & 22\n",
    "\\end{bmatrix}\n",
    "$$\n",
    "\n",
    "2. convert the ciphertext (\"guwjxu\") into vector form, since the modular inverse of our key matrix is 2 by 2, the vector needs to be 2 by 1 for matrix multiplication to be possible. in our case, the ciphertext is 6 letters long so we need to split into cunks of 2 and convert them into numerical vector: \n",
    "$$\n",
    "\\text{\"guwjxu\"} \\;\\;\\;\n",
    "\\rightarrow\n",
    "\\begin{pmatrix} \\text{g} \\\\ \\text{u} \\end{pmatrix}\n",
    "\\begin{pmatrix} \\text{w} \\\\ \\text{j} \\end{pmatrix}\n",
    "\\begin{pmatrix} \\text{x} \\\\ \\text{u} \\end{pmatrix}\n",
    "\\rightarrow\n",
    "\\begin{pmatrix} 6 \\\\ 20 \\end{pmatrix}\n",
    "\\begin{pmatrix} 22 \\\\ 9 \\end{pmatrix}\n",
    "\\begin{pmatrix} 23 \\\\ 20 \\end{pmatrix}\n",
    "$$\n",
    "3. now we can multiply each 2 by 1 ciphertext vector with the inverse of key matrix, take the modulo (remainder) of the resulting 2 by 1 vectors by 27, and concatenate the results to get \"fum la\", the original plaintext.\n",
    "$$\n",
    "\\text{D}(K, C) = ( \\;\\; K^{-1}_{2 \\times 2} \\times \\;\\; C_{2 \\times 1}) \\;\\; \\text{mod 27}\n",
    "$$\n",
    "\n",
    "\n",
    "$$\n",
    "K^{-1}\n",
    "\\times \n",
    "\\begin{bmatrix} \\text{g} \\\\ \\text{u} \\end{bmatrix}\n",
    " = \n",
    "\\begin{bmatrix}\n",
    "21 & 25 \\\\\n",
    "2 & 22\n",
    "\\end{bmatrix}\n",
    "\\times \n",
    "\\begin{bmatrix} 6 \\\\ 20 \\end{bmatrix} = \n",
    "\\begin{bmatrix} 626 \\\\ 452 \\end{bmatrix} \\text{mod 27} = \n",
    "\\begin{bmatrix} 5 \\\\ 20 \\end{bmatrix} = \n",
    "\\begin{bmatrix} \\text{f} \\\\ \\text{u} \\end{bmatrix}\n",
    "$$\n",
    "$$\n",
    "K^{-1}\n",
    "\\times \n",
    "\\begin{bmatrix} \\text{w} \\\\ \\text{j} \\end{bmatrix}\n",
    " = \n",
    "\\begin{bmatrix}\n",
    "21 & 25 \\\\\n",
    "2 & 22\n",
    "\\end{bmatrix}\n",
    "\\times \n",
    "\\begin{bmatrix} 22 \\\\ 9 \\end{bmatrix} = \n",
    "\\begin{bmatrix} 687 \\\\ 242 \\end{bmatrix} \\text{mod 27} = \n",
    "\\begin{bmatrix} 12 \\\\ 26 \\end{bmatrix} = \n",
    "\\begin{bmatrix} \\text{m} \\\\ \\text{\" \"} \\end{bmatrix}\n",
    "$$\n",
    "$$\n",
    "K^{-1}\n",
    "\\times \n",
    "\\begin{bmatrix} \\text{x} \\\\ \\text{u} \\end{bmatrix}\n",
    " = \n",
    "\\begin{bmatrix}\n",
    "21 & 25 \\\\\n",
    "2 & 22\n",
    "\\end{bmatrix}\n",
    "\\times \n",
    "\\begin{bmatrix} 23 \\\\ 20 \\end{bmatrix} = \n",
    "\\begin{bmatrix} 983 \\\\ 486 \\end{bmatrix} \\text{mod 27} = \n",
    "\\begin{bmatrix} 11 \\\\ 0 \\end{bmatrix} = \n",
    "\\begin{bmatrix} \\text{l} \\\\ \\text{a} \\end{bmatrix}\n",
    "$$\n",
    "\n",
    "4. concatenating the decrypted vectors: \n",
    "$$\n",
    "\\begin{bmatrix} \\text{f} \\\\ \\text{u} \\end{bmatrix}\n",
    "\\begin{bmatrix} \\text{m} \\\\ \\text{\" \"} \\end{bmatrix}\n",
    "\\begin{bmatrix} \\text{l} \\\\ \\text{a} \\end{bmatrix}\n",
    "= \n",
    "\\text{fum la}\n",
    "$$\n",
    "\n",
    "in other words: \n",
    "$$\n",
    "D(\\begin{bmatrix}\n",
    "7 & 8 \\\\\n",
    "19 & 3\n",
    "\\end{bmatrix},\n",
    "\\text{guwjxu}) = \n",
    "\\text{fum la} \\; \\; \\; (mod 27)\n",
    "$$"
   ]
  },
  {
   "cell_type": "markdown",
   "id": "0bcb6674-322e-4323-a285-c0f71a00177e",
   "metadata": {},
   "source": [
    "# Exercise 6\n",
    "before implementing the encryption and decryption functions, let's build some of the util functions we need in the encryption/decryption process.\n",
    "\n",
    "**Exercise6.1:** Implement the `det_2by2()` function that returns the determinant of the given 2 by 2 matrix: "
   ]
  },
  {
   "cell_type": "code",
   "execution_count": 47,
   "id": "0c868030-1b98-4d79-bfba-f5bb16d32c6e",
   "metadata": {},
   "outputs": [],
   "source": [
    "def det_2by2(mat: np.ndarray):\n",
    "    \"\"\"\n",
    "    returns determinant of a 2 by 2 matrix.\n",
    "    \"\"\"\n",
    "    assert mat.shape[0] == 2 and mat.shape[1] == 2 and len(mat) == 2, 'given matrix must be 2 by 2.'\n",
    "    det = mat[0][0]*mat[1][1] - mat[0][1]*mat[1][0] # SOL\n",
    "    return det"
   ]
  },
  {
   "cell_type": "markdown",
   "id": "8d442cbd-2346-4077-b43c-54a363905a81",
   "metadata": {},
   "source": [
    "**Exercise6.2:** Implement the `adjugate_mat()` function which takes a 2 by 2 matrix and returns the adjugate of the given matrix.\n",
    "\n",
    "**only use matrix multiplication (`A @ B`), transpose (`.T`) or row swapping in this function. do not use direct indexing to build the adjugate form.** \n",
    "\n",
    "for row swapping, use the `row_swap()` function we implemented in Exercise 4.1."
   ]
  },
  {
   "cell_type": "code",
   "execution_count": 48,
   "id": "e0f81ec0-2522-4975-b030-9c8a31262560",
   "metadata": {},
   "outputs": [],
   "source": [
    "def adjugate_mat(mat: np.ndarray): \n",
    "    \"\"\"\n",
    "    returns the adjugate matrix of the given 2 by 2 matrix,\n",
    "        \n",
    "    only use row swap, matrix multiplications \n",
    "    and transpose operation\n",
    "    \"\"\"\n",
    "    assert mat.shape[0] == 2 and mat.shape[1] == 2 and len(mat.shape)==2, 'Input matrix must be 2x2.'\n",
    "    mat = row_swap(mat, 0, 1) # SOL  \n",
    "    mat = mat.T # SOL \n",
    "    mat = row_swap(mat, 0, 1) # SOL \n",
    "    temp = np.array([ # SOL  \n",
    "        [-1, 0],\n",
    "        [0, 1]\n",
    "    ])\n",
    "    mat = mat @ temp # SOL \n",
    "    mat = mat.T # SOL \n",
    "    mat = mat @ temp # SOL \n",
    "    mat = mat.T # SOL \n",
    "    return mat"
   ]
  },
  {
   "cell_type": "markdown",
   "id": "396ad9e7-c2a5-48e5-84ad-322a4833726e",
   "metadata": {},
   "source": [
    "**Exercise6.3:** implement the `modular_inv_2by2()` function that returns the modular inverse of the given 2 by 2 matrix. \n",
    "\n",
    "(we use `mod_inverse()` function to calculate the multiplicative inverse of the determinant)\n",
    "\n",
    "we've explained how to calculate modular inverse of a 2 by 2 matrix before, under the title \"Finding Modular Inverse of key matrix\"."
   ]
  },
  {
   "cell_type": "code",
   "execution_count": 49,
   "id": "2b7ef877-17ae-4f21-ae07-fd06d8bbcf20",
   "metadata": {},
   "outputs": [],
   "source": [
    "def modular_inv_2by2(mat: np.ndarray): \n",
    "    \"\"\"\n",
    "    returns the Modular inverse of the 2 by 2 key matrix.\n",
    "    use mod_inverse() function from sympy to calculate\n",
    "    modular multiplicative inverse of the determinant.\n",
    "    \"\"\"\n",
    "    assert mat.shape[0] == 2 and mat.shape[1] == 2 and len(mat.shape)==2, 'Input matrix must be 2x2.'\n",
    "    # use the function you implemented in 6.1\n",
    "    det = det_2by2(mat) # SOL \n",
    "    print('\\tdeterminant: ', det)\n",
    "    \n",
    "    modular_multiplicative_inverse = mod_inverse(int(det), M)\n",
    "    print(f'\\tmodular multiplicative inverse: {modular_multiplicative_inverse}')\n",
    "\n",
    "    # use the function implemented in 6.2\n",
    "    adjugate_key = adjugate_mat(mat) # SOL \n",
    "    \n",
    "    mod_inv = (modular_multiplicative_inverse * adjugate_key) % M # SOl\n",
    "\n",
    "    return mod_inv"
   ]
  },
  {
   "cell_type": "markdown",
   "id": "dc8d8ad0-6308-4d47-8ce1-15c1f4f714a8",
   "metadata": {},
   "source": [
    "# Explanatory Question 2\n",
    "### Properties of the Key matrix\n",
    "**Question:** what are some properties that key matrix must have for the encryption and decryption to be possible? specifiaclly what matrices can not be used as a key matrix?\n",
    "for each property you mention, explain why it's necessary and what would happen if key matrix doesn't have that property.\n"
   ]
  },
  {
   "cell_type": "raw",
   "id": "cd736162-319f-45a7-ab9d-77c2c17d69f1",
   "metadata": {},
   "source": [
    "Write your asnwer in this cell"
   ]
  },
  {
   "cell_type": "markdown",
   "id": "f76393b4-6377-40d9-83d4-5f40779e5eb6",
   "metadata": {},
   "source": [
    "**Exercise6.4:** implement `key_is_Valid()` function based on your answer on the proprties of key matrix, it should return `True` if the given key matrix is valid and `False` otherwise: \n",
    "\n",
    "(recall that we set `K=2` and `M=27`)"
   ]
  },
  {
   "cell_type": "code",
   "execution_count": 50,
   "id": "937bbdac-a60a-4621-a961-a33a472d6e39",
   "metadata": {},
   "outputs": [],
   "source": [
    "def key_is_valid(key_mat: np.ndarray) -> bool: \n",
    "    \"\"\"\n",
    "    checks if the given key matrix is valid.\n",
    "    \"\"\"\n",
    "    if not (key_mat.shape[0] == 2 and key_mat.shape[1] == 2 and len(key_mat) == 2): return False\n",
    "    \n",
    "    det = det_2by2(key_mat)  # SOL\n",
    "    \n",
    "    assert not det == 0, 'key matrix must have be non-singular, given key has det=0'\n",
    "    # TODO: check for existence of mode inverse of determinant\n",
    "    # modular_multiplicative_inverse = mod_inverse(int(det), M)"
   ]
  },
  {
   "cell_type": "markdown",
   "id": "d4023d60-96c6-4e45-b797-0fb39dc8f3db",
   "metadata": {},
   "source": [
    "# Exercise 7: \n",
    "\n",
    "Complete the `encrypt()` and `decrypt()` functions of `HillCipher` class. this class takes the key matrix in its constructor."
   ]
  },
  {
   "cell_type": "code",
   "execution_count": 51,
   "id": "e2db8d90-f28d-4182-bcad-4f1b9052d1d6",
   "metadata": {},
   "outputs": [],
   "source": [
    "class HillCipher():\n",
    "    def __init__(self, key: np.ndarray) -> None:\n",
    "        self.K = 2\n",
    "        self.M = 27\n",
    "        self.__key = key\n",
    "        key_is_valid(self.__key)\n",
    "        self.c2num = c2num\n",
    "        self.num2c = num2c\n",
    "  \n",
    "    def encrypt(self, text: str, debug=False) -> str:\n",
    "        \"\"\"\n",
    "        returns the encrypted string of the input string using the cipher hill\n",
    "        encryption method and self.__key, \n",
    "        \n",
    "        plain_text = original given string\n",
    "        cipher_text= encrypted text\n",
    "        \"\"\"\n",
    "        print('plain text: ', text)\n",
    "\n",
    "        # split input text to chunks of K\n",
    "        text_list = text_to_list(text)\n",
    "        \n",
    "        # encrypt each chunk of original text and append to cipher_text:\n",
    "        cipher_text = [] \n",
    "        for idx, chunk in enumerate(text_list): \n",
    "            if debug: print(f'\\tEncrypting {chunk}...')\n",
    "\n",
    "            # convert string to vector\n",
    "            chunk_vec = text2vec(chunk) # SOL \n",
    "\n",
    "            # encrypt chunk_vec \n",
    "            encrypted_vec = (self.__key @ chunk_vec) % self.M # SOL \n",
    "            if debug: print('\\tencrypted vector: ', encrypted_vec)\n",
    "\n",
    "            # convert encrypted_vec to string \n",
    "            encrypted_chunk = vec2text(encrypted_vec) # SOL \n",
    "            if debug: print('\\tencrypted chunk: ', encrypted_chunk)\n",
    "\n",
    "            # append \n",
    "            cipher_text.append(encrypted_chunk)\n",
    "\n",
    "        cipher_text = ''.join(cipher_text)\n",
    "        print('Encrypted cipher text: ', cipher_text)\n",
    "        return cipher_text  \n",
    "    \n",
    "    def decrypt(self, cipher_text: str, debug = False) -> str:\n",
    "        \"\"\"\n",
    "        returns the decrypted string of the given encrpyted string, using\n",
    "        self.__key.\n",
    "        \n",
    "        cipher_text = encrypted string\n",
    "        plain_text  = original message that we want to decrypt the cipher_text into\n",
    "        \"\"\"\n",
    "        # split string into chunks of K\n",
    "        cipher_text_list = text_to_list(cipher_text)\n",
    "\n",
    "        # calculate modualr inverse of Key matrix: \n",
    "        mod_inv_key = modular_inv_2by2(self.__key) # SOL\n",
    "        if debug: print(\"mod_inv_key \\n\", mod_inv_key)\n",
    "        \n",
    "        # decrypt each chunk and append to plain_text\n",
    "        plain_text = [] \n",
    "        for idx, cipher_chunk in enumerate(cipher_text_list):\n",
    "            if debug: print(f'\\tdecrypting {cipher_chunk}')\n",
    "\n",
    "            # convert string to vector\n",
    "            cipher_chunk_vec = text2vec(cipher_chunk) # SOL \n",
    "            if debug: print('\\tencrypted vector: ', cipher_chunk_vec)\n",
    "            \n",
    "            # decrypt cipher_chunk_vec\n",
    "            decrpyted_vec = (mod_inv_key @ cipher_chunk_vec) % self.M # SOL \n",
    "            if debug: print('\\tdecrypted vector: ', decrpyted_vec)\n",
    "            \n",
    "            # convert to string\n",
    "            decrpyted_chunk = vec2text(decrpyted_vec) # SOL  \n",
    "            if debug: print(f'\\tdecrypted chunk: ', decrpyted_chunk)\n",
    "\n",
    "            plain_text.append(decrpyted_chunk)\n",
    "\n",
    "        plain_text = ''.join(plain_text)\n",
    "        print('Decrypted plaint text: ', plain_text)\n",
    "        return plain_text"
   ]
  },
  {
   "cell_type": "code",
   "execution_count": 52,
   "id": "8dcde09a-e72f-4cb9-9e60-367af9395529",
   "metadata": {},
   "outputs": [
    {
     "name": "stdout",
     "output_type": "stream",
     "text": [
      "plain text:  fum la\n",
      "\tEncrypting fu...\n",
      "\tencrypted vector:  [ 6. 20.]\n",
      "\tencrypted chunk:  gu\n",
      "\tEncrypting m ...\n",
      "\tencrypted vector:  [22.  9.]\n",
      "\tencrypted chunk:  wj\n",
      "\tEncrypting la...\n",
      "\tencrypted vector:  [23. 20.]\n",
      "\tencrypted chunk:  xu\n",
      "Encrypted cipher text:  guwjxu\n",
      "\tdeterminant:  -131\n",
      "\tmodular multiplicative inverse: 7\n",
      "mod_inv_key \n",
      " [[21. 25.]\n",
      " [ 2. 22.]]\n",
      "\tdecrypting gu\n",
      "\tencrypted vector:  [ 6. 20.]\n",
      "\tdecrypted vector:  [ 5. 20.]\n",
      "\tdecrypted chunk:  fu\n",
      "\tdecrypting wj\n",
      "\tencrypted vector:  [22.  9.]\n",
      "\tdecrypted vector:  [12. 26.]\n",
      "\tdecrypted chunk:  m \n",
      "\tdecrypting xu\n",
      "\tencrypted vector:  [23. 20.]\n",
      "\tdecrypted vector:  [11.  0.]\n",
      "\tdecrypted chunk:  la\n",
      "Decrypted plaint text:  fum la\n"
     ]
    }
   ],
   "source": [
    "test_key = np.array([\n",
    "    [7, 8],\n",
    "    [19, 3]\n",
    "])\n",
    "ch = HillCipher(test_key)\n",
    "\n",
    "test_plain_text = 'fum la'\n",
    "enc = ch.encrypt(test_plain_text, True)\n",
    "dec = ch.decrypt(enc, True)\n",
    "\n",
    "assert test_plain_text == dec, 'Decrypted text does not match the plain text' "
   ]
  },
  {
   "cell_type": "markdown",
   "id": "41329bec-4703-4a78-90c2-473308842e41",
   "metadata": {},
   "source": [
    "# Explanatory Question 3:\n",
    "**Question:** is it possible for two different letters in a message to have the same encrypted character? for example\n",
    "\n",
    "$$\n",
    "\\text{plaintext1} = \\text{\"ab\"} \\rightarrow \\text{(after encryption)} \\rightarrow \\text{\"gh\"}\n",
    "$$\n",
    "\n",
    "$$\n",
    "\\text{plaintext1} = \\text{\"cz\"} \\rightarrow \\text{(after encryption)} \\rightarrow \\text{\"eh\"}\n",
    "$$\n",
    "\n",
    "\"b\" and \"z\" are different letters but in the encrypted vector for each plaintext, \"b\" is changed to \"h\" and \"z\" is changed to \"h\" as well.\n",
    "\n",
    "write the matrix multiplicationof encryption for the hypothetical key matrix $\\begin{bmatrix} a&b\\\\c&d\\end{bmatrix}$ and show if this can happen or not."
   ]
  },
  {
   "cell_type": "raw",
   "id": "e7b7711f-e043-4af3-8a64-9a906d96093a",
   "metadata": {},
   "source": [
    "Write your answer here"
   ]
  },
  {
   "cell_type": "markdown",
   "id": "8bec644a-3ff2-4b0c-8a25-25b6a608c8f5",
   "metadata": {},
   "source": [
    "# Explanatory Question 4: \n",
    "**Question:** imagine the key matrix $K = \\begin{bmatrix} a&b\\\\c&d \\end{bmatrix}$, and the input plaintext = \"aaaa\".\n",
    "assume ciphertext (encrypted message) of plaintext is $\\text{\"} y_1 y_2 y_3 y_4\\text{\"}$. \n",
    "by writing the matrix multiplications of encryption show that $y_1$ is not necessarily equal to $y_2$, but $y_1$ is equal to $y_3$ and $y_2$ is equal to $y_4$."
   ]
  },
  {
   "cell_type": "raw",
   "id": "d1738b5b-7372-44dd-a6f3-311f7dacb2cd",
   "metadata": {},
   "source": [
    "write your answer here"
   ]
  },
  {
   "cell_type": "markdown",
   "id": "c0085431-e555-40f8-b0dd-b3f10d9ad04b",
   "metadata": {},
   "source": [
    "# Known plaintext attack on Hill Cipher"
   ]
  },
  {
   "cell_type": "markdown",
   "id": "4bd83f75-d454-4c2a-935f-9ed4bb542db2",
   "metadata": {},
   "source": [
    "The basic Hill cipher is vulnerable to a [known-plaintext attack](https://en.wikipedia.org/wiki/Known-plaintext_attack) because it is completely linear. An opponent who intercepts $n^2$ plaintext/ciphertext character pairs can set up a linear system which can (usually) be easily solved; assuming the attacker knows some pairs (x’,y’), (x”,y”) …. of plaintexts/ciphertexts; The challenge is, given y, is to find the relative x or the key matrix."
   ]
  },
  {
   "cell_type": "markdown",
   "id": "8db513d4-f7a9-41aa-aacd-10a0754fd657",
   "metadata": {},
   "source": [
    "Imagine the attacker (who wants to break the encryption key) has both the plaintext('fum la') and ciphertext('guwjxu') in the previous example.\n",
    "let's re-write these pairs in matrix form: \n",
    "assuming $key = \\begin{bmatrix} a&b \\\\ c&d\\end{bmatrix}$\n",
    "\n",
    "$$\n",
    "\\begin{bmatrix} a&b \\\\ c&d\\end{bmatrix} \n",
    "\\times\n",
    "\\begin{bmatrix} \\text{f} \\\\ \\text{u} \\end{bmatrix}\n",
    " = \n",
    "\\begin{bmatrix} \n",
    "a \\times \\text{f} + b \\times  \\text{u} \\\\\n",
    "c \\times \\text{f} + d \\times  \\text{u} \\\\\n",
    "\\end{bmatrix}\n",
    " = \n",
    "\\begin{bmatrix} \\text{g} \\\\ \\text{u} \\end{bmatrix} \n",
    "\\;\\; \\text{(mod 27)}\n",
    "$$\n",
    "$$\n",
    "\\begin{bmatrix} a&b \\\\ c&d\\end{bmatrix} \n",
    "\\times\n",
    "\\begin{bmatrix} \\text{m} \\\\ \\text{\" \"} \\end{bmatrix}\n",
    " = \n",
    "\\begin{bmatrix} \n",
    "a \\times \\text{m} + b \\times  \\text{\" \"} \\\\\n",
    "c \\times \\text{m} + d \\times  \\text{\" \"} \\\\\n",
    "\\end{bmatrix}\n",
    " = \n",
    "\\begin{bmatrix} \\text{w} \\\\ \\text{j} \\end{bmatrix} \n",
    "\\;\\; \\text{(mod 27)}\n",
    "$$\n",
    "$$\n",
    "\\begin{bmatrix} a&b \\\\ c&d\\end{bmatrix} \n",
    "\\times\n",
    "\\begin{bmatrix} \\text{l} \\\\ \\text{a} \\end{bmatrix}\n",
    " = \n",
    "\\begin{bmatrix} \n",
    "a \\times \\text{l} + b \\times  \\text{a} \\\\\n",
    "c \\times \\text{a} + d \\times  \\text{a} \\\\\n",
    "\\end{bmatrix}\n",
    " = \n",
    "\\begin{bmatrix} \\text{x} \\\\ \\text{u} \\end{bmatrix} \n",
    "\\;\\; \\text{(mod 27)}\n",
    "$$\n"
   ]
  },
  {
   "cell_type": "markdown",
   "id": "12d64e38-f0cc-4b89-bca3-1278faee5a71",
   "metadata": {},
   "source": [
    "since key size = 2, attacker only needs 2 pairs of plaintext/ciphertext vectors to break the key. in this example we'll use \n",
    "$\n",
    "(\\begin{bmatrix}\n",
    "\\text{f} \\\\ \n",
    "\\text{u}\n",
    "\\end{bmatrix}\n",
    ",\n",
    "\\begin{bmatrix}\n",
    "\\text{g} \\\\ \n",
    "\\text{u}\n",
    "\\end{bmatrix})\n",
    "$ \n",
    "and\n",
    "$\n",
    "(\\begin{bmatrix}\n",
    "\\text{m} \\\\ \n",
    "\\text{\" \"}\n",
    "\\end{bmatrix}\n",
    ",\n",
    "\\begin{bmatrix}\n",
    "\\text{w} \\\\ \n",
    "\\text{j}\n",
    "\\end{bmatrix})\n",
    "$\n",
    "pairs.\n",
    "\n",
    "putting these vectors in matrices $X$ and $Y$ we have: \n",
    "$$\n",
    "X = \n",
    "\\begin{bmatrix}\n",
    "| & | \\\\\n",
    "x_1 & x_2 \\\\\n",
    "| & | \n",
    "\\end{bmatrix}\n",
    "=\n",
    "\\begin{bmatrix}\n",
    "\\text{f} & \\text{m} \\\\\n",
    "\\text{u} & \\text{\" \"}\n",
    "\\end{bmatrix}\n",
    "=\n",
    "\\begin{bmatrix}\n",
    "5 & 12 \\\\\n",
    "20 & 26\n",
    "\\end{bmatrix}\n",
    ",\n",
    "Y = \n",
    "\\begin{bmatrix}\n",
    "| & | \\\\\n",
    "y_1 & y_2 \\\\\n",
    "| & | \n",
    "\\end{bmatrix}\n",
    "=\n",
    "\\begin{bmatrix}\n",
    "\\text{g} & \\text{w} \\\\\n",
    "\\text{u} & \\text{j}\n",
    "\\end{bmatrix}\n",
    "=\n",
    "\\begin{bmatrix}\n",
    "6 & 22 \\\\\n",
    "20 & 9\n",
    "\\end{bmatrix}\n",
    "$$\n",
    "\n",
    "since $Key_{2 \\times 2} \\times {x_1}_{(2 \\times 1)} = y_1$ and $Key_{2 \\times 2} \\times {x_2}_{(2 \\times 1)} = y_2$, we can write these two as one matrix multiplication as follows: \n",
    "\n",
    "$$\n",
    "Key_{2 \\times 2} \\times X_{2 \\times 2} = Y_{2 \\times 2} \\;\\; \\text{(mod 27)}\n",
    "$$\n",
    "\n",
    "now all we have to do is to multiply this equation by the modular inverse of $X$ from right: \n",
    "\n",
    "$$\n",
    "Key_{2 \\times 2} \\times X_{2 \\times 2} \\times X^{-1}_{2 \\times 2} = Y_{2 \\times 2} \\times X^{-1}_{2 \\times 2} \\text{(mod 27)}\n",
    "$$\n",
    "$$\n",
    "Key_{2 \\times 2} = Y_{2 \\times 2} \\times X^{-1}_{2 \\times 2} \\text{(mod 27)}\n",
    "$$\n",
    "**Note that $X^{-1}$ is the modular inverse**"
   ]
  },
  {
   "cell_type": "markdown",
   "id": "1b93b73e-8230-4496-b312-1e67a1bae447",
   "metadata": {},
   "source": [
    "# Exercise 8: \n",
    "implement the function `known_plaintext_attack()` which takes a plaintext and ciphertext and breaks the encryption key used for encrypting plain text and returns it. "
   ]
  },
  {
   "cell_type": "code",
   "execution_count": 53,
   "id": "fa738132-865a-4454-b998-478f14d17e16",
   "metadata": {},
   "outputs": [],
   "source": [
    "def known_plaintext_attack(plain_text: str, cipher_text: str, debug=False) -> np.ndarray:\n",
    "    assert len(plain_text) >= K*K and len(cipher_text) >= K*K, f'need at least {K} vectors of size {K} by 1.'\n",
    "    \n",
    "    # get 2 vectors of plain_text and cipher text (k=2)\n",
    "    plain_chunks = text_to_list(plain_text)[0: 2]\n",
    "    cipher_chunks =text_to_list(cipher_text)[0: 2]\n",
    "\n",
    "    # build matrix X out of plain_chunks, \n",
    "    # matrix X is explained above \n",
    "    X = [] # SOL \n",
    "    for temp in plain_chunks:\n",
    "        X.append(text2vec(temp)[:, None])\n",
    "    X = np.hstack(X)\n",
    "    if debug: print('X: \\n', X)\n",
    "\n",
    "    # build matrix Y out of cipher_chunks,\n",
    "    # matrix Y is explained above\n",
    "    Y = [] # SOL \n",
    "    for temp in cipher_chunks:\n",
    "        Y.append(text2vec(temp)[:, None])\n",
    "    Y = np.hstack(Y)\n",
    "    if debug: print('Y: \\n', Y)\n",
    "    \n",
    "    broken_key = (Y @ modular_inv_2by2(X) % M) # SOL \n",
    "    broken_key = broken_key.astype(int) \n",
    "    print('broken key: \\n', broken_key)\n",
    "    return broken_key"
   ]
  },
  {
   "cell_type": "code",
   "execution_count": 54,
   "id": "151bc599-86b2-4277-b4c8-362603e39674",
   "metadata": {},
   "outputs": [
    {
     "name": "stdout",
     "output_type": "stream",
     "text": [
      "plain text:  known plaintext attack\n",
      "Encrypted cipher text:  xunnxfagpvurxxiimguohq\n"
     ]
    }
   ],
   "source": [
    "test_key_attack = np.array([\n",
    "    [11, 12],\n",
    "    [5, 6]\n",
    "])\n",
    "\n",
    "hill_cipher_to_attack = HillCipher(test_key_attack)\n",
    "\n",
    "test_plain_text = 'known plaintext attack'\n",
    "test_cipher_text= hill_cipher_to_attack.encrypt(test_plain_text)"
   ]
  },
  {
   "cell_type": "code",
   "execution_count": 55,
   "id": "94f54987-1f72-4cdd-b152-2676a3e115bf",
   "metadata": {},
   "outputs": [
    {
     "name": "stdout",
     "output_type": "stream",
     "text": [
      "X: \n",
      " [[10. 14.]\n",
      " [13. 22.]]\n",
      "Y: \n",
      " [[23. 13.]\n",
      " [20. 13.]]\n",
      "\tdeterminant:  38.0\n",
      "\tmodular multiplicative inverse: 5\n",
      "broken key: \n",
      " [[11 12]\n",
      " [ 5  6]]\n"
     ]
    }
   ],
   "source": [
    "broken_key = known_plaintext_attack(test_plain_text, test_cipher_text, True)\n",
    "\n",
    "assert np.array_equal(broken_key, test_key_attack), 'Attack failed, the broken key does not match the actual key.'"
   ]
  },
  {
   "cell_type": "markdown",
   "id": "48f58888-93ec-4bd7-8b01-da070dd20abe",
   "metadata": {},
   "source": [
    "# Explanatory Question 5: \n",
    "\n",
    "we talked about the matrix $X$ in the known plaintext attacks on hillcipher. for `K=2`, the matrix $X$ is 2 by 2 where each column is the vector form of one of the plaintexts.\n",
    "\n",
    "**Question:** what properties should matrix $X$ in order for the known plaintext attack to be able to break the key matrix? \n",
    "\n",
    "**Question:** why do we need at least two plaintext/ciphertext pairs of size 2 by 1 to break the key? \n",
    "\n",
    "**Question:** can the two plaintext/ciphertext pairs be repetitive? "
   ]
  },
  {
   "cell_type": "raw",
   "id": "35c68c21-677a-431c-a32b-9f6de880389d",
   "metadata": {},
   "source": [
    "Write your answer here."
   ]
  },
  {
   "cell_type": "markdown",
   "id": "5ec52907-4c77-4e11-8c72-10f69dc2686b",
   "metadata": {},
   "source": [
    "# Exercise 9\n",
    "in this exercise you are given a pair of plaintext/ciphertext string, use this pair to break the key and use it to decrypt the text in file `filename.txt`."
   ]
  },
  {
   "cell_type": "code",
   "execution_count": 56,
   "id": "7133b263-fc63-49e9-8b81-9753f2e781e8",
   "metadata": {},
   "outputs": [
    {
     "name": "stdout",
     "output_type": "stream",
     "text": [
      "encrypted text: \n",
      " nnjrgqdxhowocrvbatdkiptpdknsjrxacigecifppfwbwoyihnzjhwmbgczjqejshncwcealfbkyktml qfacijsktpkvoemtozjhnzjhwmbgczjpcwdiifciinnjrvcktpkhnjsatqwcdhor yipcrylihwiphsatonl zwhwphmbli qczyhwovuczktpkjreipxnsa dldkwxvbl hweoyivuslwrfviptdbtkypcbvxsrphfnnbbwogmbodzhweogeplnsipfclzyhqxhwktpkhntwnbgccgjcdkwxvbl hweomjkcpu zbfgeplnsipfclzyhqxhwxsiuhvcrcgjcdkwxvbl hweodiau qqxhociyineznbfhwbbeipkmipumjcwl cdngpcli ciu rmfwrhnzjhwmbgczjxsiuhvcrcgjcdkwxvbl hweoslkojcdkwxvbl hweodippebl hnzjhwmbgczjxslwl iyuyhnzjhwmbgczj ytybbeipkmipumjcwl pcliqhbgmfwrhnzjhwmbgczjpctycy riyjcdkwxvbl hweogeci ciu rmfwrhnzjhwmbgczjlvs xma dlnexjewhfmxcrcz pttwohvqxmjhacds bovbyhglndemvffrlgkvipyofrjsktpkpcyhqjryatbfmpcwbgvocedfvcs hfnn ytydfopiizjvocehnxl ygovctozjktmlpl zwmxlfrhwktdbyhwo ctpdkglndemvffrnnipjfojcds xhgx zr dioncyiinn yplktmlqfpuboasdociso qhntwnbs crlyglqtcyr diyhs gxl fjnduvligrpuzxboasdociqxysuiqh zvbjcdijstdjcboasdocilznewdcimpcwbgqxjsqe cjcjsglbgzk cwoexmiatbfczx yxciqxtroj zkwzwpduvlwj li zbfdiyhs jcdippebl ipgjatkfrpbburzjfjnncihwktpkmxcrcz pttwo\n"
     ]
    }
   ],
   "source": [
    "plain_text_pair = 'ferdowsi'\n",
    "cipher_text_pair= 'nexjewhf'\n",
    "\n",
    "ciphertext = ''\n",
    "with open('encrypted.txt') as f:\n",
    "    ciphertext = f.readlines()[0]\n",
    "\n",
    "print('encrypted text: \\n', ciphertext)"
   ]
  },
  {
   "cell_type": "code",
   "execution_count": 57,
   "id": "2c315602-7f8f-4061-9ca0-ad50c543b464",
   "metadata": {},
   "outputs": [
    {
     "name": "stdout",
     "output_type": "stream",
     "text": [
      "\tdeterminant:  -53.0\n",
      "\tmodular multiplicative inverse: 1\n",
      "broken key: \n",
      " [[1 2]\n",
      " [3 4]]\n"
     ]
    }
   ],
   "source": [
    "broken_key = known_plaintext_attack(plain_text_pair, cipher_text_pair) # SOL "
   ]
  },
  {
   "cell_type": "code",
   "execution_count": 58,
   "id": "ad6b87ad-4ac2-40ba-805f-b2dfd1944547",
   "metadata": {},
   "outputs": [
    {
     "name": "stdout",
     "output_type": "stream",
     "text": [
      "\tdeterminant:  -2\n",
      "\tmodular multiplicative inverse: 13\n",
      "Decrypted plaint text:  on february nineteen seventy five the faculty of engineering was established to serve as the leading engineering institution for the eastern part of iran in september nineteen seventy five the faculty of engineering officially started its mission by admitting thirty students in the electrical engineering major and thirty students in mechanical engineering courses are offered in bachelor master phd in electrical engineering mechanical engineering civil engineering computer engineering materials engineering and bachelor master in chemical engineering industrial engineering the electrical engineering group of ferdowsi university has many prominent research labs such as the integrated system lab corrosion and coating lab etc according to iranwatch in twenty eleven research on solid propellant combustion air to air missile fuse electronics robust controller design for a missile s yaw channel coastal missile defense systems as well as remotely piloted vehicle s guidance navigation and control computer system is being done in the university \n"
     ]
    }
   ],
   "source": [
    "# create the class using the broken key\n",
    "broken_hill_cipher = HillCipher(broken_key)\n",
    "\n",
    "# decrypt the ciphertext \n",
    "decrypted_plain_text = broken_hill_cipher.decrypt(ciphertext) # SOL "
   ]
  },
  {
   "cell_type": "markdown",
   "id": "b75352c2-be9b-4a8e-8c05-db85db6fc0cc",
   "metadata": {},
   "source": [
    "Resources: \n",
    "- https://en.wikipedia.org/wiki/Hill_cipher\n",
    "- https://www.educative.io/answers/what-is-the-hill-cipher\n",
    "- https://crypto.interactive-maths.com/hill-cipher.html\n",
    "- https://crypto.stackexchange.com/questions/43179/hills-cipher-known-plaintext-attack\n",
    "- https://secgroup.dais.unive.it/teaching/cryptography/known-plaintext-attacks/"
   ]
  },
  {
   "cell_type": "code",
   "execution_count": null,
   "id": "cfd117c5-bcb0-442a-94a3-6b6b5f629846",
   "metadata": {},
   "outputs": [],
   "source": []
  },
  {
   "cell_type": "code",
   "execution_count": null,
   "id": "0db94dfb-faf1-4ad4-88c8-74991ee45b48",
   "metadata": {},
   "outputs": [],
   "source": []
  }
 ],
 "metadata": {
  "kernelspec": {
   "display_name": "Python 3 (ipykernel)",
   "language": "python",
   "name": "python3"
  },
  "language_info": {
   "codemirror_mode": {
    "name": "ipython",
    "version": 3
   },
   "file_extension": ".py",
   "mimetype": "text/x-python",
   "name": "python",
   "nbconvert_exporter": "python",
   "pygments_lexer": "ipython3",
   "version": "3.9.13"
  }
 },
 "nbformat": 4,
 "nbformat_minor": 5
}
